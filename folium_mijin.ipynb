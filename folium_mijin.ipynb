{
 "cells": [
  {
   "cell_type": "code",
   "execution_count": 10,
   "metadata": {},
   "outputs": [
    {
     "name": "stdout",
     "output_type": "stream",
     "text": [
      "Collecting folium\n",
      "  Using cached folium-0.11.0-py2.py3-none-any.whl (93 kB)\n",
      "Requirement already satisfied: numpy in /opt/conda/lib/python3.7/site-packages (from folium) (1.18.4)\n",
      "Requirement already satisfied: jinja2>=2.9 in /opt/conda/lib/python3.7/site-packages (from folium) (2.11.2)\n",
      "Requirement already satisfied: requests in /opt/conda/lib/python3.7/site-packages (from folium) (2.23.0)\n",
      "Requirement already satisfied: branca>=0.3.0 in /opt/conda/lib/python3.7/site-packages (from folium) (0.3.1)\n",
      "Requirement already satisfied: MarkupSafe>=0.23 in /opt/conda/lib/python3.7/site-packages (from jinja2>=2.9->folium) (1.1.1)\n",
      "Requirement already satisfied: chardet<4,>=3.0.2 in /opt/conda/lib/python3.7/site-packages (from requests->folium) (3.0.4)\n",
      "Requirement already satisfied: idna<3,>=2.5 in /opt/conda/lib/python3.7/site-packages (from requests->folium) (2.9)\n",
      "Requirement already satisfied: certifi>=2017.4.17 in /opt/conda/lib/python3.7/site-packages (from requests->folium) (2020.4.5.1)\n",
      "Requirement already satisfied: urllib3!=1.25.0,!=1.25.1,<1.26,>=1.21.1 in /opt/conda/lib/python3.7/site-packages (from requests->folium) (1.25.9)\n",
      "Requirement already satisfied: six in /opt/conda/lib/python3.7/site-packages (from branca>=0.3.0->folium) (1.14.0)\n",
      "Installing collected packages: folium\n",
      "Successfully installed folium-0.11.0\n"
     ]
    }
   ],
   "source": [
    "!pip install folium"
   ]
  },
  {
   "cell_type": "code",
   "execution_count": 21,
   "metadata": {},
   "outputs": [],
   "source": [
    "t = dict()"
   ]
  },
  {
   "cell_type": "code",
   "execution_count": 22,
   "metadata": {},
   "outputs": [],
   "source": [
    "t.setdefault('name', []).append('주유소1')"
   ]
  },
  {
   "cell_type": "code",
   "execution_count": 23,
   "metadata": {},
   "outputs": [],
   "source": [
    "t.setdefault('name', []).append('주유소2')"
   ]
  },
  {
   "cell_type": "code",
   "execution_count": 24,
   "metadata": {},
   "outputs": [],
   "source": [
    "t.setdefault('la', []).append(35)\n",
    "t.setdefault('la', []).append(36)"
   ]
  },
  {
   "cell_type": "code",
   "execution_count": 25,
   "metadata": {},
   "outputs": [
    {
     "data": {
      "text/plain": [
       "{'name': ['주유소1', '주유소2'], 'la': [35, 36]}"
      ]
     },
     "execution_count": 25,
     "metadata": {},
     "output_type": "execute_result"
    }
   ],
   "source": [
    "t"
   ]
  },
  {
   "cell_type": "code",
   "execution_count": 26,
   "metadata": {},
   "outputs": [
    {
     "data": {
      "text/html": [
       "<div>\n",
       "<style scoped>\n",
       "    .dataframe tbody tr th:only-of-type {\n",
       "        vertical-align: middle;\n",
       "    }\n",
       "\n",
       "    .dataframe tbody tr th {\n",
       "        vertical-align: top;\n",
       "    }\n",
       "\n",
       "    .dataframe thead th {\n",
       "        text-align: right;\n",
       "    }\n",
       "</style>\n",
       "<table border=\"1\" class=\"dataframe\">\n",
       "  <thead>\n",
       "    <tr style=\"text-align: right;\">\n",
       "      <th></th>\n",
       "      <th>name</th>\n",
       "      <th>la</th>\n",
       "    </tr>\n",
       "  </thead>\n",
       "  <tbody>\n",
       "    <tr>\n",
       "      <th>0</th>\n",
       "      <td>주유소1</td>\n",
       "      <td>35</td>\n",
       "    </tr>\n",
       "    <tr>\n",
       "      <th>1</th>\n",
       "      <td>주유소2</td>\n",
       "      <td>36</td>\n",
       "    </tr>\n",
       "  </tbody>\n",
       "</table>\n",
       "</div>"
      ],
      "text/plain": [
       "   name  la\n",
       "0  주유소1  35\n",
       "1  주유소2  36"
      ]
     },
     "execution_count": 26,
     "metadata": {},
     "output_type": "execute_result"
    }
   ],
   "source": [
    "pd.DataFrame(t)"
   ]
  },
  {
   "cell_type": "code",
   "execution_count": 11,
   "metadata": {},
   "outputs": [],
   "source": [
    "import folium\n",
    "from folium.plugins import MarkerCluster\n",
    "import pandas as pd\n",
    "import numpy as np\n",
    "import os\n",
    "#import seaborn as sns\n",
    "#import matplotlib.pyplot as plt"
   ]
  },
  {
   "cell_type": "code",
   "execution_count": 5,
   "metadata": {},
   "outputs": [
    {
     "data": {
      "text/plain": [
       "<module 'posixpath' from '/opt/conda/lib/python3.7/posixpath.py'>"
      ]
     },
     "execution_count": 5,
     "metadata": {},
     "output_type": "execute_result"
    }
   ],
   "source": [
    "os.path"
   ]
  },
  {
   "cell_type": "markdown",
   "metadata": {},
   "source": [
    "### df1과 df2로 나눈 이유는 각각 다른 마크로 찍기 위해"
   ]
  },
  {
   "cell_type": "code",
   "execution_count": 12,
   "metadata": {},
   "outputs": [],
   "source": [
    "df1 = {'name': ['강릉IC주유소', '백마주유소', '충원대로주유소'], 'lo': [128.881406, 129.121687, 127.919048],\n",
    "                 'la': [37.748078, 37.492835, 37.015872]}\n",
    "df2 = {'name': ['강릉현대주유소', '서원경주유소', '삼천리주유소'], 'lo': [128.914091, 127.457240, 127.219048],\n",
    "                 'la': [37.745318, 36.643683, 35.815872]}\n",
    "df1, df2 = pd.DataFrame(df1), pd.DataFrame(df2)"
   ]
  },
  {
   "cell_type": "code",
   "execution_count": 13,
   "metadata": {},
   "outputs": [
    {
     "name": "stdout",
     "output_type": "stream",
     "text": [
      "(3, 3) (3, 3)\n"
     ]
    },
    {
     "data": {
      "text/html": [
       "<div>\n",
       "<style scoped>\n",
       "    .dataframe tbody tr th:only-of-type {\n",
       "        vertical-align: middle;\n",
       "    }\n",
       "\n",
       "    .dataframe tbody tr th {\n",
       "        vertical-align: top;\n",
       "    }\n",
       "\n",
       "    .dataframe thead th {\n",
       "        text-align: right;\n",
       "    }\n",
       "</style>\n",
       "<table border=\"1\" class=\"dataframe\">\n",
       "  <thead>\n",
       "    <tr style=\"text-align: right;\">\n",
       "      <th></th>\n",
       "      <th>name</th>\n",
       "      <th>lo</th>\n",
       "      <th>la</th>\n",
       "    </tr>\n",
       "  </thead>\n",
       "  <tbody>\n",
       "    <tr>\n",
       "      <th>0</th>\n",
       "      <td>강릉IC주유소</td>\n",
       "      <td>128.881406</td>\n",
       "      <td>37.748078</td>\n",
       "    </tr>\n",
       "    <tr>\n",
       "      <th>1</th>\n",
       "      <td>백마주유소</td>\n",
       "      <td>129.121687</td>\n",
       "      <td>37.492835</td>\n",
       "    </tr>\n",
       "    <tr>\n",
       "      <th>2</th>\n",
       "      <td>충원대로주유소</td>\n",
       "      <td>127.919048</td>\n",
       "      <td>37.015872</td>\n",
       "    </tr>\n",
       "  </tbody>\n",
       "</table>\n",
       "</div>"
      ],
      "text/plain": [
       "      name          lo         la\n",
       "0  강릉IC주유소  128.881406  37.748078\n",
       "1    백마주유소  129.121687  37.492835\n",
       "2  충원대로주유소  127.919048  37.015872"
      ]
     },
     "execution_count": 13,
     "metadata": {},
     "output_type": "execute_result"
    }
   ],
   "source": [
    "print(df1.shape, df2.shape)\n",
    "df1"
   ]
  },
  {
   "cell_type": "code",
   "execution_count": 31,
   "metadata": {},
   "outputs": [
    {
     "data": {
      "text/plain": [
       "[      name          lo         la\n",
       " 0  강릉IC주유소  128.881406  37.748078\n",
       " 1    백마주유소  129.121687  37.492835\n",
       " 2  충원대로주유소  127.919048  37.015872,\n",
       "       name          lo         la\n",
       " 0  강릉현대주유소  128.914091  37.745318\n",
       " 1   서원경주유소  127.457240  36.643683\n",
       " 2   삼천리주유소  127.219048  35.815872,\n",
       "       name          lo         la\n",
       " 0  강릉IC주유소  128.881406  37.748078\n",
       " 1    백마주유소  129.121687  37.492835\n",
       " 2  충원대로주유소  127.919048  37.015872\n",
       " 0  강릉현대주유소  128.914091  37.745318\n",
       " 1   서원경주유소  127.457240  36.643683\n",
       " 2   삼천리주유소  127.219048  35.815872]"
      ]
     },
     "execution_count": 31,
     "metadata": {},
     "output_type": "execute_result"
    }
   ],
   "source": [
    "a = list()\n",
    "a.append(df1)\n",
    "a.append(df2)\n",
    "a.append(df3)\n",
    "a"
   ]
  },
  {
   "cell_type": "code",
   "execution_count": 32,
   "metadata": {},
   "outputs": [
    {
     "data": {
      "text/html": [
       "<div>\n",
       "<style scoped>\n",
       "    .dataframe tbody tr th:only-of-type {\n",
       "        vertical-align: middle;\n",
       "    }\n",
       "\n",
       "    .dataframe tbody tr th {\n",
       "        vertical-align: top;\n",
       "    }\n",
       "\n",
       "    .dataframe thead th {\n",
       "        text-align: right;\n",
       "    }\n",
       "</style>\n",
       "<table border=\"1\" class=\"dataframe\">\n",
       "  <thead>\n",
       "    <tr style=\"text-align: right;\">\n",
       "      <th></th>\n",
       "      <th>name</th>\n",
       "      <th>lo</th>\n",
       "      <th>la</th>\n",
       "    </tr>\n",
       "  </thead>\n",
       "  <tbody>\n",
       "    <tr>\n",
       "      <th>0</th>\n",
       "      <td>강릉IC주유소</td>\n",
       "      <td>128.881406</td>\n",
       "      <td>37.748078</td>\n",
       "    </tr>\n",
       "    <tr>\n",
       "      <th>1</th>\n",
       "      <td>백마주유소</td>\n",
       "      <td>129.121687</td>\n",
       "      <td>37.492835</td>\n",
       "    </tr>\n",
       "    <tr>\n",
       "      <th>2</th>\n",
       "      <td>충원대로주유소</td>\n",
       "      <td>127.919048</td>\n",
       "      <td>37.015872</td>\n",
       "    </tr>\n",
       "    <tr>\n",
       "      <th>0</th>\n",
       "      <td>강릉현대주유소</td>\n",
       "      <td>128.914091</td>\n",
       "      <td>37.745318</td>\n",
       "    </tr>\n",
       "    <tr>\n",
       "      <th>1</th>\n",
       "      <td>서원경주유소</td>\n",
       "      <td>127.457240</td>\n",
       "      <td>36.643683</td>\n",
       "    </tr>\n",
       "    <tr>\n",
       "      <th>2</th>\n",
       "      <td>삼천리주유소</td>\n",
       "      <td>127.219048</td>\n",
       "      <td>35.815872</td>\n",
       "    </tr>\n",
       "    <tr>\n",
       "      <th>0</th>\n",
       "      <td>강릉IC주유소</td>\n",
       "      <td>128.881406</td>\n",
       "      <td>37.748078</td>\n",
       "    </tr>\n",
       "    <tr>\n",
       "      <th>1</th>\n",
       "      <td>백마주유소</td>\n",
       "      <td>129.121687</td>\n",
       "      <td>37.492835</td>\n",
       "    </tr>\n",
       "    <tr>\n",
       "      <th>2</th>\n",
       "      <td>충원대로주유소</td>\n",
       "      <td>127.919048</td>\n",
       "      <td>37.015872</td>\n",
       "    </tr>\n",
       "    <tr>\n",
       "      <th>0</th>\n",
       "      <td>강릉현대주유소</td>\n",
       "      <td>128.914091</td>\n",
       "      <td>37.745318</td>\n",
       "    </tr>\n",
       "    <tr>\n",
       "      <th>1</th>\n",
       "      <td>서원경주유소</td>\n",
       "      <td>127.457240</td>\n",
       "      <td>36.643683</td>\n",
       "    </tr>\n",
       "    <tr>\n",
       "      <th>2</th>\n",
       "      <td>삼천리주유소</td>\n",
       "      <td>127.219048</td>\n",
       "      <td>35.815872</td>\n",
       "    </tr>\n",
       "  </tbody>\n",
       "</table>\n",
       "</div>"
      ],
      "text/plain": [
       "      name          lo         la\n",
       "0  강릉IC주유소  128.881406  37.748078\n",
       "1    백마주유소  129.121687  37.492835\n",
       "2  충원대로주유소  127.919048  37.015872\n",
       "0  강릉현대주유소  128.914091  37.745318\n",
       "1   서원경주유소  127.457240  36.643683\n",
       "2   삼천리주유소  127.219048  35.815872\n",
       "0  강릉IC주유소  128.881406  37.748078\n",
       "1    백마주유소  129.121687  37.492835\n",
       "2  충원대로주유소  127.919048  37.015872\n",
       "0  강릉현대주유소  128.914091  37.745318\n",
       "1   서원경주유소  127.457240  36.643683\n",
       "2   삼천리주유소  127.219048  35.815872"
      ]
     },
     "execution_count": 32,
     "metadata": {},
     "output_type": "execute_result"
    }
   ],
   "source": [
    "pd.concat(a)"
   ]
  },
  {
   "cell_type": "code",
   "execution_count": 14,
   "metadata": {},
   "outputs": [
    {
     "data": {
      "text/html": [
       "<div>\n",
       "<style scoped>\n",
       "    .dataframe tbody tr th:only-of-type {\n",
       "        vertical-align: middle;\n",
       "    }\n",
       "\n",
       "    .dataframe tbody tr th {\n",
       "        vertical-align: top;\n",
       "    }\n",
       "\n",
       "    .dataframe thead th {\n",
       "        text-align: right;\n",
       "    }\n",
       "</style>\n",
       "<table border=\"1\" class=\"dataframe\">\n",
       "  <thead>\n",
       "    <tr style=\"text-align: right;\">\n",
       "      <th></th>\n",
       "      <th>name</th>\n",
       "      <th>lo</th>\n",
       "      <th>la</th>\n",
       "    </tr>\n",
       "  </thead>\n",
       "  <tbody>\n",
       "    <tr>\n",
       "      <th>0</th>\n",
       "      <td>강릉IC주유소</td>\n",
       "      <td>128.881406</td>\n",
       "      <td>37.748078</td>\n",
       "    </tr>\n",
       "    <tr>\n",
       "      <th>1</th>\n",
       "      <td>백마주유소</td>\n",
       "      <td>129.121687</td>\n",
       "      <td>37.492835</td>\n",
       "    </tr>\n",
       "    <tr>\n",
       "      <th>2</th>\n",
       "      <td>충원대로주유소</td>\n",
       "      <td>127.919048</td>\n",
       "      <td>37.015872</td>\n",
       "    </tr>\n",
       "    <tr>\n",
       "      <th>0</th>\n",
       "      <td>강릉현대주유소</td>\n",
       "      <td>128.914091</td>\n",
       "      <td>37.745318</td>\n",
       "    </tr>\n",
       "    <tr>\n",
       "      <th>1</th>\n",
       "      <td>서원경주유소</td>\n",
       "      <td>127.457240</td>\n",
       "      <td>36.643683</td>\n",
       "    </tr>\n",
       "    <tr>\n",
       "      <th>2</th>\n",
       "      <td>삼천리주유소</td>\n",
       "      <td>127.219048</td>\n",
       "      <td>35.815872</td>\n",
       "    </tr>\n",
       "  </tbody>\n",
       "</table>\n",
       "</div>"
      ],
      "text/plain": [
       "      name          lo         la\n",
       "0  강릉IC주유소  128.881406  37.748078\n",
       "1    백마주유소  129.121687  37.492835\n",
       "2  충원대로주유소  127.919048  37.015872\n",
       "0  강릉현대주유소  128.914091  37.745318\n",
       "1   서원경주유소  127.457240  36.643683\n",
       "2   삼천리주유소  127.219048  35.815872"
      ]
     },
     "execution_count": 14,
     "metadata": {},
     "output_type": "execute_result"
    }
   ],
   "source": [
    "df3 = pd.concat([df1, df2])\n",
    "df3"
   ]
  },
  {
   "cell_type": "markdown",
   "metadata": {},
   "source": [
    "### 일정 거리 안에 있는 주유소 출력"
   ]
  },
  {
   "cell_type": "code",
   "execution_count": 15,
   "metadata": {},
   "outputs": [],
   "source": [
    "import numpy as np # 넘파이 추가되어야 함\n",
    "\n",
    "# 거리계산 함수인데 SQRT(가로거리 제곱 + 세로거리 제곱) 로 구하는 일반적인 유클리드(?) 거리 방식\n",
    "def cal_distance(a, b):\n",
    "    distance = np.sqrt(np.sum((a-b)**2)) # 이거 계산할 때, a와 b는 list가 아니라 np.array 형태여야 연산 가능\n",
    "    return distance\n",
    "    \n",
    "def check_distance(df, name, standard=3):\n",
    "    \n",
    "    # 목록에 없는 이름이라면 밸류에러 발생\n",
    "    if name not in list(df['name']):\n",
    "        raise ValueError ('그런 거 없음')\n",
    "    \n",
    "    data = np.array(df) # df를 array 형태로\n",
    "    lo = np.array(df['lo'])\n",
    "    la = np.array(df['la'])\n",
    "    idx_a = list(df['name']).index(name) # name으로 전달 받은 주유소 이름의 index\n",
    "    loc_a = np.array([lo[idx_a], la[idx_a]]) # lo, la에서 해당 index의 좌표값을 np.array 형태로 추출\n",
    "    \n",
    "    # for loop가 돌아갈 index list를 구성\n",
    "    list_iter = list(range(len(data)))\n",
    "    list_iter.remove(idx_a) # 본인 index를 제외한 전체 index\n",
    "    \n",
    "    # 스탠다드 충족하는 데이터의 index를 집어넣을 리스트\n",
    "    result_idx = list()\n",
    "    \n",
    "    for i in list_iter:\n",
    "        loc_b = np.array([lo[i], la[i]]) # 특정 index의 좌표값 추출\n",
    "        if cal_distance(loc_a, loc_b) < standard: # 거리계산한 것이 기준값보다 작다면 그 index를 리스트에 추가\n",
    "            result_idx.append(i)\n",
    "            \n",
    "    return data[result_idx] # data 중에서 해당 index에 해당하는 row만 추출"
   ]
  },
  {
   "cell_type": "code",
   "execution_count": 17,
   "metadata": {},
   "outputs": [
    {
     "data": {
      "text/plain": [
       "array([['충원대로주유소', 127.919048, 37.015872],\n",
       "       ['삼천리주유소', 127.219048, 35.815872]], dtype=object)"
      ]
     },
     "execution_count": 17,
     "metadata": {},
     "output_type": "execute_result"
    }
   ],
   "source": [
    "check_distance(df3, '서원경주유소', 1)"
   ]
  },
  {
   "cell_type": "code",
   "execution_count": 101,
   "metadata": {},
   "outputs": [],
   "source": [
    "t = list()\n",
    "for i in range(len(df3)):\n",
    "    t.append(np.array((np.array(df3['lo'])[i], np.array(df3['la'])[i])))"
   ]
  },
  {
   "cell_type": "code",
   "execution_count": 110,
   "metadata": {},
   "outputs": [
    {
     "name": "stdout",
     "output_type": "stream",
     "text": [
      "0.3505480680448902\n",
      "1.2092388294294834\n",
      "0.03280132352514131\n",
      "1.8022034046080901\n",
      "2.5488927295200154\n"
     ]
    }
   ],
   "source": [
    "print(cal_distance(t[0], t[1]))\n",
    "print(cal_distance(t[0], t[2]))\n",
    "print(cal_distance(t[0], t[3]))\n",
    "print(cal_distance(t[0], t[4]))\n",
    "print(cal_distance(t[0], t[5]))"
   ]
  },
  {
   "cell_type": "code",
   "execution_count": 18,
   "metadata": {},
   "outputs": [],
   "source": [
    "input_1 = ['백마주유소', '서원경주유소']"
   ]
  },
  {
   "cell_type": "code",
   "execution_count": 19,
   "metadata": {},
   "outputs": [],
   "source": [
    "def check_group(df, names, standard=3):\n",
    "    final = dict()\n",
    "    \n",
    "    for name in names:\n",
    "        results = check_distance(df, name, standard)\n",
    "        # 예를 들어 'name', 'lo', 'la' 일 때\n",
    "        final.setdefault('name', result)\n",
    "    \n",
    "    return final"
   ]
  },
  {
   "cell_type": "code",
   "execution_count": 20,
   "metadata": {},
   "outputs": [
    {
     "data": {
      "text/plain": [
       "{'백마주유소': array([['강릉IC주유소', 128.881406, 37.748078],\n",
       "        ['충원대로주유소', 127.919048, 37.015872],\n",
       "        ['강릉현대주유소', 128.914091, 37.745318],\n",
       "        ['서원경주유소', 127.45724, 36.643683]], dtype=object),\n",
       " '서원경주유소': array([['강릉IC주유소', 128.881406, 37.748078],\n",
       "        ['백마주유소', 129.121687, 37.492835],\n",
       "        ['충원대로주유소', 127.919048, 37.015872],\n",
       "        ['강릉현대주유소', 128.914091, 37.745318],\n",
       "        ['삼천리주유소', 127.219048, 35.815872]], dtype=object)}"
      ]
     },
     "execution_count": 20,
     "metadata": {},
     "output_type": "execute_result"
    }
   ],
   "source": [
    "t = check_group(df3, input_1, 2)\n",
    "t"
   ]
  },
  {
   "cell_type": "code",
   "execution_count": 62,
   "metadata": {},
   "outputs": [],
   "source": [
    "def one_list(dict1):\n",
    "    final = list()\n",
    "    for key in dict1.keys():\n",
    "        for station in dict1[key]:\n",
    "            final.append(station[0])\n",
    "    return set(final) # 중복제거하기 싫으면 set()를 빼주면 돼"
   ]
  },
  {
   "cell_type": "code",
   "execution_count": 64,
   "metadata": {},
   "outputs": [
    {
     "data": {
      "text/plain": [
       "{'강릉IC주유소', '강릉현대주유소', '백마주유소', '삼천리주유소', '서원경주유소', '충원대로주유소'}"
      ]
     },
     "execution_count": 64,
     "metadata": {},
     "output_type": "execute_result"
    }
   ],
   "source": [
    "one_list(t)"
   ]
  },
  {
   "cell_type": "code",
   "execution_count": 51,
   "metadata": {},
   "outputs": [
    {
     "name": "stdout",
     "output_type": "stream",
     "text": [
      "[('강릉IC주유소', 128.881406, 37.748078), ('강릉현대주유소', 128.914091, 37.745318), ('강릉IC주유소', 128.881406, 37.748078), ('강릉현대주유소', 128.914091, 37.745318)]\n"
     ]
    }
   ],
   "source": [
    "final = list()\n",
    "\n",
    "for key in t.keys():\n",
    "    for station in t[key]:\n",
    "        result_1.append(tuple(station))\n",
    "\n",
    "print(result_1)"
   ]
  },
  {
   "cell_type": "code",
   "execution_count": 46,
   "metadata": {},
   "outputs": [],
   "source": [
    "t1 = [[1,2], [3,4], [1,2]]"
   ]
  },
  {
   "cell_type": "code",
   "execution_count": 50,
   "metadata": {},
   "outputs": [
    {
     "data": {
      "text/plain": [
       "{(1, 2), (3, 4)}"
      ]
     },
     "execution_count": 50,
     "metadata": {},
     "output_type": "execute_result"
    }
   ],
   "source": [
    "temp = list()\n",
    "for i in t1:\n",
    "    i = tuple(i)\n",
    "    temp.append(i)\n",
    "set(temp)"
   ]
  },
  {
   "cell_type": "code",
   "execution_count": null,
   "metadata": {},
   "outputs": [],
   "source": []
  },
  {
   "cell_type": "code",
   "execution_count": 12,
   "metadata": {},
   "outputs": [],
   "source": [
    "icon = folium.features.CustomIcon('./gasstation.png',icon_size=(20, 20))"
   ]
  },
  {
   "cell_type": "code",
   "execution_count": 27,
   "metadata": {},
   "outputs": [],
   "source": [
    "m = folium.Map(location = [36.5053542, 127.70434191], zoom_start=8)\n",
    "\n",
    "# for i in range(len(df1.name)):\n",
    "#     folium.CircleMarker(location= [df1.la[i], df1.lo[i]], popup= df1.name[i], icon= folium.Icon(color='lightgreen')).add_to(m)\n",
    "\n",
    "for i in range(len(df1.name)):\n",
    "    folium.CircleMarker(location= [df1.la[i], df1.lo[i]], \n",
    "                        popup= df1.name[i], color='darkblue', fill_color='darkblue').add_to(m)\n",
    "    \n",
    "for i in range(len(df2.name)):\n",
    "    folium.CircleMarker(location= [df2.la[i], df2.lo[i]], \n",
    "                        popup= df2.name[i], color='darkgreen', fill_color='darkgreen').add_to(m)"
   ]
  },
  {
   "cell_type": "markdown",
   "metadata": {},
   "source": [
    "## to do\n",
    "\n",
    "각 hdo 직영 주유소들 기준으로 반경 1km 내의 경쟁사 주유소들과의 게시가 차이를 주차별로 계산\n",
    "\n",
    "    1. 주유소A를 받아서 반경 1km 내의 경쟁 주유소들의 목록을 뽑아내기\n",
    "        input args: name, distance\n",
    "        output: [names] which are different brands\n",
    "        \n",
    "    2. 특정 시점에 해당 주유소들의 게시가격 평균 구하기\n",
    "        input args: date, [names]\n",
    "        output: (mean(G), mean(D))\n",
    "        \n",
    "    3. 주유소A와 반경, 특정 시점을 기준으로 주변 경쟁사들의 평균가격과의 차이를 dict로 뽑기\n",
    "        input args: name, distance, date\n",
    "        output: {names: [], date: [], G_diff: [], D_diff: [], lat: [], lon: []}"
   ]
  },
  {
   "cell_type": "code",
   "execution_count": 14,
   "metadata": {},
   "outputs": [],
   "source": [
    "m.save('temp.html')"
   ]
  },
  {
   "cell_type": "code",
   "execution_count": null,
   "metadata": {},
   "outputs": [],
   "source": []
  },
  {
   "cell_type": "code",
   "execution_count": null,
   "metadata": {},
   "outputs": [],
   "source": []
  },
  {
   "cell_type": "code",
   "execution_count": null,
   "metadata": {},
   "outputs": [],
   "source": []
  },
  {
   "cell_type": "code",
   "execution_count": null,
   "metadata": {},
   "outputs": [],
   "source": []
  },
  {
   "cell_type": "code",
   "execution_count": 13,
   "metadata": {},
   "outputs": [],
   "source": [
    "url_soil = \"https://icons8.com/icons/set/gas-station\""
   ]
  },
  {
   "cell_type": "code",
   "execution_count": null,
   "metadata": {},
   "outputs": [],
   "source": []
  },
  {
   "cell_type": "code",
   "execution_count": 71,
   "metadata": {},
   "outputs": [],
   "source": [
    "m = folium.Map(location = [36.5053542, 127.7043419], zoom_start=8)\n",
    "\n",
    "from folium.plugins import MarkerCluster\n",
    "marker_cluster = MarkerCluster().add_to(m)\n",
    "\n",
    "for i in range(len(df.name)):\n",
    "    folium.Marker(location= [df.la[i], df.lo[i]], \n",
    "                  popup= list(df.name)[i], icon= folium.Icon(color='blue', icon='ok')\n",
    "                 ).add_to(marker_cluster)"
   ]
  },
  {
   "cell_type": "code",
   "execution_count": 95,
   "metadata": {},
   "outputs": [],
   "source": [
    "m.save('temp.html')"
   ]
  },
  {
   "cell_type": "code",
   "execution_count": 50,
   "metadata": {},
   "outputs": [
    {
     "data": {
      "text/plain": [
       "(30, 2)"
      ]
     },
     "execution_count": 50,
     "metadata": {},
     "output_type": "execute_result"
    }
   ],
   "source": [
    "data.T.shape"
   ]
  },
  {
   "cell_type": "code",
   "execution_count": 44,
   "metadata": {},
   "outputs": [
    {
     "data": {
      "text/plain": [
       "<folium.plugins.marker_cluster.MarkerCluster at 0x7f8952788390>"
      ]
     },
     "execution_count": 44,
     "metadata": {},
     "output_type": "execute_result"
    }
   ],
   "source": [
    "m = folium.Map([45, 3], zoom_start=4)\n",
    "MarkerCluster(data.T, popups=list(range(30))).add_to(m)"
   ]
  },
  {
   "cell_type": "code",
   "execution_count": null,
   "metadata": {},
   "outputs": [],
   "source": []
  },
  {
   "cell_type": "code",
   "execution_count": null,
   "metadata": {},
   "outputs": [],
   "source": []
  },
  {
   "cell_type": "code",
   "execution_count": null,
   "metadata": {},
   "outputs": [],
   "source": []
  },
  {
   "cell_type": "code",
   "execution_count": 28,
   "metadata": {},
   "outputs": [
    {
     "data": {
      "text/plain": [
       "array([[ 37.748078, 128.881406],\n",
       "       [ 37.492835, 129.121687],\n",
       "       [ 37.015872, 127.919048]])"
      ]
     },
     "execution_count": 28,
     "metadata": {},
     "output_type": "execute_result"
    }
   ],
   "source": [
    "locations = np.array([df.la, df.lo])\n",
    "locations = locations.T\n",
    "locations"
   ]
  },
  {
   "cell_type": "code",
   "execution_count": 24,
   "metadata": {},
   "outputs": [
    {
     "data": {
      "text/plain": [
       "['강릉IC주유소', '백마주유소', '충원대로주유소']"
      ]
     },
     "execution_count": 24,
     "metadata": {},
     "output_type": "execute_result"
    }
   ],
   "source": [
    "names = list(df.name)\n",
    "names"
   ]
  },
  {
   "cell_type": "code",
   "execution_count": 12,
   "metadata": {},
   "outputs": [],
   "source": [
    "data = np.array([\n",
    "np.random.uniform(low=35, high=60, size=30), # Random latitudes in Europe\n",
    "np.random.uniform(low=-12, high=30, size=30), # Random longitudes in Europe.\n",
    "])"
   ]
  },
  {
   "cell_type": "code",
   "execution_count": 18,
   "metadata": {},
   "outputs": [
    {
     "data": {
      "text/plain": [
       "numpy.ndarray"
      ]
     },
     "execution_count": 18,
     "metadata": {},
     "output_type": "execute_result"
    }
   ],
   "source": [
    "type(np.random.uniform(low=-12, high=30, size=30))"
   ]
  },
  {
   "cell_type": "code",
   "execution_count": 13,
   "metadata": {},
   "outputs": [
    {
     "data": {
      "text/plain": [
       "array([[ 4.74540576e+01,  1.12807240e+01],\n",
       "       [ 3.50661151e+01,  2.88691915e+01],\n",
       "       [ 4.71515916e+01,  2.52088633e+01],\n",
       "       [ 4.24218244e+01, -1.17766892e+01],\n",
       "       [ 4.65240633e+01,  2.24771247e+01],\n",
       "       [ 4.53712740e+01,  6.28943368e+00],\n",
       "       [ 4.63168865e+01, -5.30944374e-02],\n",
       "       [ 5.17800244e+01, -9.75983269e+00],\n",
       "       [ 4.96597794e+01,  9.30037959e+00],\n",
       "       [ 5.73365321e+01,  1.26731288e+00],\n",
       "       [ 5.07650766e+01, -6.04274242e+00],\n",
       "       [ 4.63847936e+01, -8.73240220e+00],\n",
       "       [ 4.04589994e+01,  1.39835366e+01],\n",
       "       [ 4.98897627e+01,  1.39361004e+01],\n",
       "       [ 5.25517839e+01, -7.48281283e+00],\n",
       "       [ 4.29884346e+01, -7.01762579e+00],\n",
       "       [ 5.76001771e+01, -5.42685359e+00],\n",
       "       [ 4.48480781e+01,  1.93521637e+01],\n",
       "       [ 4.18211978e+01,  1.59172190e+01],\n",
       "       [ 5.45629561e+01, -5.32140498e+00],\n",
       "       [ 5.04860695e+01, -5.53191440e+00],\n",
       "       [ 4.37637905e+01,  1.85811200e+00],\n",
       "       [ 4.22235066e+01,  7.41371685e+00],\n",
       "       [ 5.44783110e+01, -7.07924509e+00],\n",
       "       [ 4.16425998e+01,  1.93654779e+01],\n",
       "       [ 5.44724959e+01,  2.22716585e+01],\n",
       "       [ 5.59878748e+01,  2.42433092e+01],\n",
       "       [ 3.75640000e+01, -2.68970261e+00],\n",
       "       [ 4.86159390e+01,  1.42406287e+00],\n",
       "       [ 5.12158086e+01,  2.21209314e+01]])"
      ]
     },
     "execution_count": 13,
     "metadata": {},
     "output_type": "execute_result"
    }
   ],
   "source": [
    "data.T"
   ]
  },
  {
   "cell_type": "code",
   "execution_count": 41,
   "metadata": {},
   "outputs": [
    {
     "data": {
      "text/plain": [
       "<folium.plugins.marker_cluster.MarkerCluster at 0x7fce2dc0ba10>"
      ]
     },
     "execution_count": 41,
     "metadata": {},
     "output_type": "execute_result"
    }
   ],
   "source": [
    "m = folium.Map([45, 3], zoom_start=4)\n",
    "MarkerCluster(data.T, popups=list(range(30))).add_to(m)"
   ]
  },
  {
   "cell_type": "code",
   "execution_count": 42,
   "metadata": {},
   "outputs": [],
   "source": [
    "m.save('temp.html')"
   ]
  },
  {
   "cell_type": "code",
   "execution_count": 37,
   "metadata": {},
   "outputs": [
    {
     "data": {
      "text/plain": [
       "(3, 2)"
      ]
     },
     "execution_count": 37,
     "metadata": {},
     "output_type": "execute_result"
    }
   ],
   "source": [
    "locations.shape"
   ]
  },
  {
   "cell_type": "code",
   "execution_count": 39,
   "metadata": {},
   "outputs": [
    {
     "ename": "ValueError",
     "evalue": "Expected two (lat, lon) values for location, instead got: [[37.748078, 128.881406], [37.492835, 129.121687], [37.015872, 127.919048]].",
     "output_type": "error",
     "traceback": [
      "\u001b[0;31m---------------------------------------------------------------------------\u001b[0m",
      "\u001b[0;31mValueError\u001b[0m                                Traceback (most recent call last)",
      "\u001b[0;32m<ipython-input-39-8b0ff414ec91>\u001b[0m in \u001b[0;36m<module>\u001b[0;34m\u001b[0m\n\u001b[1;32m      2\u001b[0m \u001b[0;32mfrom\u001b[0m \u001b[0mfolium\u001b[0m\u001b[0;34m.\u001b[0m\u001b[0mplugins\u001b[0m \u001b[0;32mimport\u001b[0m \u001b[0mMarkerCluster\u001b[0m\u001b[0;34m\u001b[0m\u001b[0;34m\u001b[0m\u001b[0m\n\u001b[1;32m      3\u001b[0m \u001b[0mmarker_cluster\u001b[0m \u001b[0;34m=\u001b[0m \u001b[0mMarkerCluster\u001b[0m\u001b[0;34m(\u001b[0m\u001b[0;34m)\u001b[0m\u001b[0;34m.\u001b[0m\u001b[0madd_to\u001b[0m\u001b[0;34m(\u001b[0m\u001b[0mm\u001b[0m\u001b[0;34m)\u001b[0m\u001b[0;34m\u001b[0m\u001b[0;34m\u001b[0m\u001b[0m\n\u001b[0;32m----> 4\u001b[0;31m \u001b[0mfolium\u001b[0m\u001b[0;34m.\u001b[0m\u001b[0mMarker\u001b[0m\u001b[0;34m(\u001b[0m\u001b[0mlocations\u001b[0m\u001b[0;34m,\u001b[0m \u001b[0mpopup\u001b[0m\u001b[0;34m=\u001b[0m\u001b[0mnames\u001b[0m\u001b[0;34m,\u001b[0m \u001b[0micon\u001b[0m\u001b[0;34m=\u001b[0m\u001b[0mfolium\u001b[0m\u001b[0;34m.\u001b[0m\u001b[0mIcon\u001b[0m\u001b[0;34m(\u001b[0m\u001b[0mcolor\u001b[0m\u001b[0;34m=\u001b[0m\u001b[0;34m'red'\u001b[0m\u001b[0;34m,\u001b[0m \u001b[0micon\u001b[0m\u001b[0;34m=\u001b[0m\u001b[0;34m'ok'\u001b[0m\u001b[0;34m)\u001b[0m\u001b[0;34m)\u001b[0m\u001b[0;34m.\u001b[0m\u001b[0madd_to\u001b[0m\u001b[0;34m(\u001b[0m\u001b[0mmarker_cluster\u001b[0m\u001b[0;34m)\u001b[0m\u001b[0;34m\u001b[0m\u001b[0;34m\u001b[0m\u001b[0m\n\u001b[0m",
      "\u001b[0;32m/opt/conda/lib/python3.7/site-packages/folium/map.py\u001b[0m in \u001b[0;36m__init__\u001b[0;34m(self, location, popup, tooltip, icon, draggable, **kwargs)\u001b[0m\n\u001b[1;32m    275\u001b[0m         \u001b[0msuper\u001b[0m\u001b[0;34m(\u001b[0m\u001b[0mMarker\u001b[0m\u001b[0;34m,\u001b[0m \u001b[0mself\u001b[0m\u001b[0;34m)\u001b[0m\u001b[0;34m.\u001b[0m\u001b[0m__init__\u001b[0m\u001b[0;34m(\u001b[0m\u001b[0;34m)\u001b[0m\u001b[0;34m\u001b[0m\u001b[0;34m\u001b[0m\u001b[0m\n\u001b[1;32m    276\u001b[0m         \u001b[0mself\u001b[0m\u001b[0;34m.\u001b[0m\u001b[0m_name\u001b[0m \u001b[0;34m=\u001b[0m \u001b[0;34m'Marker'\u001b[0m\u001b[0;34m\u001b[0m\u001b[0;34m\u001b[0m\u001b[0m\n\u001b[0;32m--> 277\u001b[0;31m         \u001b[0mself\u001b[0m\u001b[0;34m.\u001b[0m\u001b[0mlocation\u001b[0m \u001b[0;34m=\u001b[0m \u001b[0mvalidate_location\u001b[0m\u001b[0;34m(\u001b[0m\u001b[0mlocation\u001b[0m\u001b[0;34m)\u001b[0m\u001b[0;34m\u001b[0m\u001b[0;34m\u001b[0m\u001b[0m\n\u001b[0m\u001b[1;32m    278\u001b[0m         self.options = parse_options(\n\u001b[1;32m    279\u001b[0m             \u001b[0mdraggable\u001b[0m\u001b[0;34m=\u001b[0m\u001b[0mdraggable\u001b[0m \u001b[0;32mor\u001b[0m \u001b[0;32mNone\u001b[0m\u001b[0;34m,\u001b[0m\u001b[0;34m\u001b[0m\u001b[0;34m\u001b[0m\u001b[0m\n",
      "\u001b[0;32m/opt/conda/lib/python3.7/site-packages/folium/utilities.py\u001b[0m in \u001b[0;36mvalidate_location\u001b[0;34m(location)\u001b[0m\n\u001b[1;32m     48\u001b[0m     \u001b[0;32mif\u001b[0m \u001b[0mlen\u001b[0m\u001b[0;34m(\u001b[0m\u001b[0mlocation\u001b[0m\u001b[0;34m)\u001b[0m \u001b[0;34m!=\u001b[0m \u001b[0;36m2\u001b[0m\u001b[0;34m:\u001b[0m\u001b[0;34m\u001b[0m\u001b[0;34m\u001b[0m\u001b[0m\n\u001b[1;32m     49\u001b[0m         raise ValueError('Expected two (lat, lon) values for location, '\n\u001b[0;32m---> 50\u001b[0;31m                          'instead got: {!r}.'.format(location))\n\u001b[0m\u001b[1;32m     51\u001b[0m     \u001b[0;32mtry\u001b[0m\u001b[0;34m:\u001b[0m\u001b[0;34m\u001b[0m\u001b[0;34m\u001b[0m\u001b[0m\n\u001b[1;32m     52\u001b[0m         \u001b[0mcoords\u001b[0m \u001b[0;34m=\u001b[0m \u001b[0;34m(\u001b[0m\u001b[0mlocation\u001b[0m\u001b[0;34m[\u001b[0m\u001b[0;36m0\u001b[0m\u001b[0;34m]\u001b[0m\u001b[0;34m,\u001b[0m \u001b[0mlocation\u001b[0m\u001b[0;34m[\u001b[0m\u001b[0;36m1\u001b[0m\u001b[0;34m]\u001b[0m\u001b[0;34m)\u001b[0m\u001b[0;34m\u001b[0m\u001b[0;34m\u001b[0m\u001b[0m\n",
      "\u001b[0;31mValueError\u001b[0m: Expected two (lat, lon) values for location, instead got: [[37.748078, 128.881406], [37.492835, 129.121687], [37.015872, 127.919048]]."
     ]
    }
   ],
   "source": [
    "m = folium.Map(location = [36.5053542, 127.7043419], zoom_start=8)\n",
    "from folium.plugins import MarkerCluster\n",
    "marker_cluster = MarkerCluster().add_to(m)\n",
    "folium.Marker(locations, popup=names, icon=folium.Icon(color='red', icon='ok')).add_to(marker_cluster)"
   ]
  },
  {
   "cell_type": "code",
   "execution_count": 77,
   "metadata": {},
   "outputs": [],
   "source": [
    "m = folium.Map(location = [36.5053542, 127.7043419], zoom_start=8)\n",
    "\n",
    "from folium.plugins import MarkerCluster\n",
    "marker_cluster = MarkerCluster().add_to(m)\n",
    "\n",
    "for i in range(len(df.name)):\n",
    "    folium.Marker(location= [df.la[i], df.lo[i]], \n",
    "                  popup= df.name[i], icon= folium.Icon(color='blue', icon='ok')\n",
    "                 ).add_to(marker_cluster)\n"
   ]
  },
  {
   "cell_type": "code",
   "execution_count": 19,
   "metadata": {},
   "outputs": [
    {
     "name": "stdout",
     "output_type": "stream",
     "text": [
      "<folium.folium.Map object at 0x7fce2dd64d10>\n"
     ]
    }
   ],
   "source": [
    "print(m)"
   ]
  },
  {
   "cell_type": "code",
   "execution_count": 78,
   "metadata": {},
   "outputs": [],
   "source": [
    "m.save('temp.html')"
   ]
  },
  {
   "cell_type": "code",
   "execution_count": 4,
   "metadata": {},
   "outputs": [
    {
     "data": {
      "text/plain": [
       "0    128.881406\n",
       "1    129.121687\n",
       "2    127.919048\n",
       "Name: lo, dtype: float64"
      ]
     },
     "execution_count": 4,
     "metadata": {},
     "output_type": "execute_result"
    }
   ],
   "source": [
    "df.lo"
   ]
  },
  {
   "cell_type": "code",
   "execution_count": null,
   "metadata": {},
   "outputs": [],
   "source": []
  }
 ],
 "metadata": {
  "kernelspec": {
   "display_name": "Python 3",
   "language": "python",
   "name": "python3"
  },
  "language_info": {
   "codemirror_mode": {
    "name": "ipython",
    "version": 3
   },
   "file_extension": ".py",
   "mimetype": "text/x-python",
   "name": "python",
   "nbconvert_exporter": "python",
   "pygments_lexer": "ipython3",
   "version": "3.8.3"
  }
 },
 "nbformat": 4,
 "nbformat_minor": 4
}