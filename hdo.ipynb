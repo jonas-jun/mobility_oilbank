{
 "cells": [
  {
   "cell_type": "markdown",
   "metadata": {},
   "source": [
    "## to do\n",
    "\n",
    "각 hdo 직영 주유소들 기준으로 반경 1km 내의 경쟁사 주유소들과의 게시가 차이를 주차별로 계산\n",
    "\n",
    "    1. 주유소A를 받아서 반경 1km 내의 경쟁 주유소들의 목록을 뽑아내기\n",
    "        input args: name, distance\n",
    "        output: [names] which are different brands\n",
    "        \n",
    "    2. 특정 시점에 해당 주유소들의 게시가격 평균 구하기\n",
    "        input args: date, [names]\n",
    "        output: (mean(G), mean(D))\n",
    "        \n",
    "    3. 주유소A와 반경, 특정 시점을 기준으로 주변 경쟁사들의 평균가격과의 차이를 dict로 뽑기\n",
    "        input args: name, distance, date\n",
    "        output: {names: [], date: [], G_diff: [], D_diff: [], lat: [], lon: []}"
   ]
  },
  {
   "cell_type": "code",
   "execution_count": 50,
   "metadata": {},
   "outputs": [],
   "source": [
    "import pandas as pd\n",
    "import numpy as np\n",
    "from haversine import haversine\n",
    "import folium\n",
    "import os"
   ]
  },
  {
   "cell_type": "code",
   "execution_count": 54,
   "metadata": {},
   "outputs": [
    {
     "name": "stdout",
     "output_type": "stream",
     "text": [
      "(50651, 11)\n"
     ]
    },
    {
     "data": {
      "text/html": [
       "<div>\n",
       "<style scoped>\n",
       "    .dataframe tbody tr th:only-of-type {\n",
       "        vertical-align: middle;\n",
       "    }\n",
       "\n",
       "    .dataframe tbody tr th {\n",
       "        vertical-align: top;\n",
       "    }\n",
       "\n",
       "    .dataframe thead th {\n",
       "        text-align: right;\n",
       "    }\n",
       "</style>\n",
       "<table border=\"1\" class=\"dataframe\">\n",
       "  <thead>\n",
       "    <tr style=\"text-align: right;\">\n",
       "      <th></th>\n",
       "      <th>Unnamed: 0</th>\n",
       "      <th>name</th>\n",
       "      <th>address</th>\n",
       "      <th>date</th>\n",
       "      <th>brand</th>\n",
       "      <th>do_brand</th>\n",
       "      <th>self</th>\n",
       "      <th>G</th>\n",
       "      <th>D</th>\n",
       "      <th>lat</th>\n",
       "      <th>lon</th>\n",
       "    </tr>\n",
       "  </thead>\n",
       "  <tbody>\n",
       "    <tr>\n",
       "      <th>0</th>\n",
       "      <td>0</td>\n",
       "      <td>(주)동해에너지주유소</td>\n",
       "      <td>강원 강릉시 경강로 2101(임당동)</td>\n",
       "      <td>2020년 06월 1주</td>\n",
       "      <td>SK에너지</td>\n",
       "      <td>SK에너지</td>\n",
       "      <td>셀프</td>\n",
       "      <td>1238.00</td>\n",
       "      <td>1038.00</td>\n",
       "      <td>37.755264</td>\n",
       "      <td>128.896541</td>\n",
       "    </tr>\n",
       "    <tr>\n",
       "      <th>1</th>\n",
       "      <td>1</td>\n",
       "      <td>(주)동해에너지주유소</td>\n",
       "      <td>강원 강릉시 경강로 2101(임당동)</td>\n",
       "      <td>2020년 06월 2주</td>\n",
       "      <td>SK에너지</td>\n",
       "      <td>SK에너지</td>\n",
       "      <td>셀프</td>\n",
       "      <td>1273.00</td>\n",
       "      <td>1073.00</td>\n",
       "      <td>37.755264</td>\n",
       "      <td>128.896541</td>\n",
       "    </tr>\n",
       "    <tr>\n",
       "      <th>2</th>\n",
       "      <td>2</td>\n",
       "      <td>(주)동해에너지주유소</td>\n",
       "      <td>강원 강릉시 경강로 2101(임당동)</td>\n",
       "      <td>2020년 06월 3주</td>\n",
       "      <td>SK에너지</td>\n",
       "      <td>SK에너지</td>\n",
       "      <td>셀프</td>\n",
       "      <td>1290.14</td>\n",
       "      <td>1090.14</td>\n",
       "      <td>37.755264</td>\n",
       "      <td>128.896541</td>\n",
       "    </tr>\n",
       "  </tbody>\n",
       "</table>\n",
       "</div>"
      ],
      "text/plain": [
       "   Unnamed: 0         name               address          date  brand  \\\n",
       "0           0  (주)동해에너지주유소  강원 강릉시 경강로 2101(임당동)  2020년 06월 1주  SK에너지   \n",
       "1           1  (주)동해에너지주유소  강원 강릉시 경강로 2101(임당동)  2020년 06월 2주  SK에너지   \n",
       "2           2  (주)동해에너지주유소  강원 강릉시 경강로 2101(임당동)  2020년 06월 3주  SK에너지   \n",
       "\n",
       "  do_brand self        G        D        lat         lon  \n",
       "0    SK에너지   셀프  1238.00  1038.00  37.755264  128.896541  \n",
       "1    SK에너지   셀프  1273.00  1073.00  37.755264  128.896541  \n",
       "2    SK에너지   셀프  1290.14  1090.14  37.755264  128.896541  "
      ]
     },
     "execution_count": 54,
     "metadata": {},
     "output_type": "execute_result"
    }
   ],
   "source": [
    "df = pd.read_csv('hdo_data_200801.csv')\n",
    "print(df.shape)\n",
    "df.head(3)"
   ]
  },
  {
   "cell_type": "code",
   "execution_count": 55,
   "metadata": {},
   "outputs": [
    {
     "name": "stdout",
     "output_type": "stream",
     "text": [
      "(50651, 10)\n"
     ]
    },
    {
     "data": {
      "text/html": [
       "<div>\n",
       "<style scoped>\n",
       "    .dataframe tbody tr th:only-of-type {\n",
       "        vertical-align: middle;\n",
       "    }\n",
       "\n",
       "    .dataframe tbody tr th {\n",
       "        vertical-align: top;\n",
       "    }\n",
       "\n",
       "    .dataframe thead th {\n",
       "        text-align: right;\n",
       "    }\n",
       "</style>\n",
       "<table border=\"1\" class=\"dataframe\">\n",
       "  <thead>\n",
       "    <tr style=\"text-align: right;\">\n",
       "      <th></th>\n",
       "      <th>name</th>\n",
       "      <th>address</th>\n",
       "      <th>date</th>\n",
       "      <th>brand</th>\n",
       "      <th>do_brand</th>\n",
       "      <th>self</th>\n",
       "      <th>G</th>\n",
       "      <th>D</th>\n",
       "      <th>lat</th>\n",
       "      <th>lon</th>\n",
       "    </tr>\n",
       "  </thead>\n",
       "  <tbody>\n",
       "    <tr>\n",
       "      <th>0</th>\n",
       "      <td>(주)동해에너지주유소</td>\n",
       "      <td>강원 강릉시 경강로 2101(임당동)</td>\n",
       "      <td>2020년 06월 1주</td>\n",
       "      <td>SK에너지</td>\n",
       "      <td>SK에너지</td>\n",
       "      <td>셀프</td>\n",
       "      <td>1238.00</td>\n",
       "      <td>1038.00</td>\n",
       "      <td>37.755264</td>\n",
       "      <td>128.896541</td>\n",
       "    </tr>\n",
       "    <tr>\n",
       "      <th>1</th>\n",
       "      <td>(주)동해에너지주유소</td>\n",
       "      <td>강원 강릉시 경강로 2101(임당동)</td>\n",
       "      <td>2020년 06월 2주</td>\n",
       "      <td>SK에너지</td>\n",
       "      <td>SK에너지</td>\n",
       "      <td>셀프</td>\n",
       "      <td>1273.00</td>\n",
       "      <td>1073.00</td>\n",
       "      <td>37.755264</td>\n",
       "      <td>128.896541</td>\n",
       "    </tr>\n",
       "    <tr>\n",
       "      <th>2</th>\n",
       "      <td>(주)동해에너지주유소</td>\n",
       "      <td>강원 강릉시 경강로 2101(임당동)</td>\n",
       "      <td>2020년 06월 3주</td>\n",
       "      <td>SK에너지</td>\n",
       "      <td>SK에너지</td>\n",
       "      <td>셀프</td>\n",
       "      <td>1290.14</td>\n",
       "      <td>1090.14</td>\n",
       "      <td>37.755264</td>\n",
       "      <td>128.896541</td>\n",
       "    </tr>\n",
       "  </tbody>\n",
       "</table>\n",
       "</div>"
      ],
      "text/plain": [
       "          name               address          date  brand do_brand self  \\\n",
       "0  (주)동해에너지주유소  강원 강릉시 경강로 2101(임당동)  2020년 06월 1주  SK에너지    SK에너지   셀프   \n",
       "1  (주)동해에너지주유소  강원 강릉시 경강로 2101(임당동)  2020년 06월 2주  SK에너지    SK에너지   셀프   \n",
       "2  (주)동해에너지주유소  강원 강릉시 경강로 2101(임당동)  2020년 06월 3주  SK에너지    SK에너지   셀프   \n",
       "\n",
       "         G        D        lat         lon  \n",
       "0  1238.00  1038.00  37.755264  128.896541  \n",
       "1  1273.00  1073.00  37.755264  128.896541  \n",
       "2  1290.14  1090.14  37.755264  128.896541  "
      ]
     },
     "execution_count": 55,
     "metadata": {},
     "output_type": "execute_result"
    }
   ],
   "source": [
    "# csv에서 불러왔을 때 생기는 index 제거\n",
    "df = df.drop('Unnamed: 0', axis=1)\n",
    "print(df.shape)\n",
    "df.head(3)"
   ]
  },
  {
   "cell_type": "code",
   "execution_count": 58,
   "metadata": {},
   "outputs": [
    {
     "data": {
      "text/plain": [
       "(7561, 10)"
      ]
     },
     "execution_count": 58,
     "metadata": {},
     "output_type": "execute_result"
    }
   ],
   "source": [
    "t = df.drop_duplicates(['name'])\n",
    "t.shape"
   ]
  },
  {
   "cell_type": "code",
   "execution_count": 114,
   "metadata": {},
   "outputs": [
    {
     "data": {
      "text/plain": [
       "(10112, 10)"
      ]
     },
     "execution_count": 114,
     "metadata": {},
     "output_type": "execute_result"
    }
   ],
   "source": [
    "t5 = df.drop_duplicates(['address'])\n",
    "t5.shape"
   ]
  },
  {
   "cell_type": "code",
   "execution_count": 87,
   "metadata": {},
   "outputs": [
    {
     "ename": "SyntaxError",
     "evalue": "invalid syntax (<ipython-input-87-14898ad68c73>, line 34)",
     "output_type": "error",
     "traceback": [
      "\u001b[0;36m  File \u001b[0;32m\"<ipython-input-87-14898ad68c73>\"\u001b[0;36m, line \u001b[0;32m34\u001b[0m\n\u001b[0;31m    def mean_price(self, date, names)\u001b[0m\n\u001b[0m                                     ^\u001b[0m\n\u001b[0;31mSyntaxError\u001b[0m\u001b[0;31m:\u001b[0m invalid syntax\n"
     ]
    }
   ],
   "source": [
    "class mj_tools:\n",
    "\n",
    "    def __init__(self, df):\n",
    "        self.df = df\n",
    "\n",
    "    def get_near_stations(self, name, distance):\n",
    "\n",
    "        if name not in list(df['name']):\n",
    "            raise ValueError ('this station is not in the dataframe')\n",
    "\n",
    "        self.drop_dup = self.df.drop_duplicates(['name']) # name 기준으로 중복된 row 제거\n",
    "        self.arr = np.array(self.drop_dup)\n",
    "        lat = np.array(self.drop_dup['lat'])\n",
    "        lon = np.array(self.drop_dup['lon'])\n",
    "        idx_ = list(self.drop_dup['name']).index(name)\n",
    "        loc_a = ([lat[idx_], lon[idx_]]) # haversine에 넣기 위해 tuple 형태로 변환\n",
    "        \n",
    "        list_iter = list(range(len(self.drop_dup)))\n",
    "        list_iter.remove(idx_) # 본인 index를 제외한 전체 index\n",
    "        \n",
    "        result_idx = list()\n",
    "        final = list()\n",
    "        \n",
    "        for i in list_iter:\n",
    "            loc_b = (lat[i], lon[i])\n",
    "            if haversine(loc_a, loc_b) < distance:\n",
    "                result_idx.append(i)\n",
    "        \n",
    "        for i in result_idx:\n",
    "            final.append(self.arr[i][0])\n",
    "        \n",
    "        return final\n",
    "    \n",
    "    def mean_price(self, year, month, week, names):\n",
    "        \n",
    "        self.date_str = '{}년 {:02}월 {}주'.format(year, month, week)\n",
    "        \n",
    "        self.df1 = self.df.loc[self.df['date']==self.date_str, ['name', 'G', 'D']]"
   ]
  },
  {
   "cell_type": "code",
   "execution_count": 109,
   "metadata": {},
   "outputs": [],
   "source": [
    "name1 = '(주)동해에너지주유소'\n",
    "name2 = '황제주유소'\n",
    "date1 = '2020년 06월 1주'"
   ]
  },
  {
   "cell_type": "code",
   "execution_count": 105,
   "metadata": {},
   "outputs": [
    {
     "data": {
      "text/plain": [
       "'2020년 06월 2주'"
      ]
     },
     "execution_count": 105,
     "metadata": {},
     "output_type": "execute_result"
    }
   ],
   "source": [
    "str1 = '{}년 {:02}월 {}주'.format(2020, 6, 2)\n",
    "str1"
   ]
  },
  {
   "cell_type": "code",
   "execution_count": 111,
   "metadata": {},
   "outputs": [
    {
     "data": {
      "text/plain": [
       "(10073, 10)"
      ]
     },
     "execution_count": 111,
     "metadata": {},
     "output_type": "execute_result"
    }
   ],
   "source": [
    "t1 = df.loc[df['date']==str1]\n",
    "#t2 = t1.loc[t1['name'] in ]"
   ]
  },
  {
   "cell_type": "code",
   "execution_count": 113,
   "metadata": {},
   "outputs": [
    {
     "data": {
      "text/plain": [
       "7502"
      ]
     },
     "execution_count": 113,
     "metadata": {},
     "output_type": "execute_result"
    }
   ],
   "source": []
  },
  {
   "cell_type": "code",
   "execution_count": 82,
   "metadata": {},
   "outputs": [],
   "source": [
    "t = mj_tools(df)"
   ]
  },
  {
   "cell_type": "code",
   "execution_count": 86,
   "metadata": {},
   "outputs": [
    {
     "data": {
      "text/plain": [
       "['삼거리주유소', '홍길동주유소', '화부산주유소']"
      ]
     },
     "execution_count": 86,
     "metadata": {},
     "output_type": "execute_result"
    }
   ],
   "source": [
    "t.get_near_stations('(주)동해에너지주유소', 1)"
   ]
  },
  {
   "cell_type": "code",
   "execution_count": 66,
   "metadata": {},
   "outputs": [
    {
     "name": "stdout",
     "output_type": "stream",
     "text": [
      "<class 'pandas.core.frame.DataFrame'>\n",
      "RangeIndex: 50651 entries, 0 to 50650\n",
      "Data columns (total 10 columns):\n",
      " #   Column    Non-Null Count  Dtype  \n",
      "---  ------    --------------  -----  \n",
      " 0   name      50651 non-null  object \n",
      " 1   address   50651 non-null  object \n",
      " 2   date      50651 non-null  object \n",
      " 3   brand     50651 non-null  object \n",
      " 4   do_brand  50651 non-null  object \n",
      " 5   self      50651 non-null  object \n",
      " 6   G         50651 non-null  float64\n",
      " 7   D         50651 non-null  float64\n",
      " 8   lat       49294 non-null  float64\n",
      " 9   lon       49294 non-null  float64\n",
      "dtypes: float64(4), object(6)\n",
      "memory usage: 3.9+ MB\n"
     ]
    }
   ],
   "source": [
    "df.info()"
   ]
  },
  {
   "cell_type": "code",
   "execution_count": null,
   "metadata": {},
   "outputs": [],
   "source": []
  }
 ],
 "metadata": {
  "kernelspec": {
   "display_name": "Python 3",
   "language": "python",
   "name": "python3"
  },
  "language_info": {
   "codemirror_mode": {
    "name": "ipython",
    "version": 3
   },
   "file_extension": ".py",
   "mimetype": "text/x-python",
   "name": "python",
   "nbconvert_exporter": "python",
   "pygments_lexer": "ipython3",
   "version": "3.8.3"
  }
 },
 "nbformat": 4,
 "nbformat_minor": 4
}
