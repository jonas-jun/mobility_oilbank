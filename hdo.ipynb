{
 "cells": [
  {
   "cell_type": "markdown",
   "metadata": {},
   "source": [
    "## to do\n",
    "\n",
    "각 hdo 직영 주유소들 기준으로 반경 1km 내의 경쟁사 주유소들과의 게시가 차이를 주차별로 계산\n",
    "\n",
    "    1. 특정 이름을 가진 sample들을 추출하여 모든 정보를 list로 뽑아내기. 이후 사용자가 올바른 것 선택\n",
    "        input args: name\n",
    "        output: [all arrays with target name]\n",
    "    \n",
    "    2. 1에서 뽑은 리스트에서 타겟 index를 골라주면, 주변 (distance)km 주유소들의 정보를 모두 뽑아내기\n",
    "        input args: index, distance\n",
    "        output: [all arrays with target stations]\n",
    "        \n",
    "    3. 특정 시점에 근처 경쟁 주유소들의 게시가격 평균 구하기\n",
    "        input args: date\n",
    "        output: (mean(G), mean(D))"
   ]
  },
  {
   "cell_type": "code",
   "execution_count": 1,
   "metadata": {},
   "outputs": [],
   "source": [
    "import pandas as pd\n",
    "import numpy as np\n",
    "from haversine import haversine\n",
    "import folium\n",
    "import os\n",
    "from mj_tools import check_price"
   ]
  },
  {
   "cell_type": "code",
   "execution_count": 2,
   "metadata": {},
   "outputs": [
    {
     "name": "stdout",
     "output_type": "stream",
     "text": [
      "(50651, 11)\n"
     ]
    },
    {
     "data": {
      "text/html": [
       "<div>\n",
       "<style scoped>\n",
       "    .dataframe tbody tr th:only-of-type {\n",
       "        vertical-align: middle;\n",
       "    }\n",
       "\n",
       "    .dataframe tbody tr th {\n",
       "        vertical-align: top;\n",
       "    }\n",
       "\n",
       "    .dataframe thead th {\n",
       "        text-align: right;\n",
       "    }\n",
       "</style>\n",
       "<table border=\"1\" class=\"dataframe\">\n",
       "  <thead>\n",
       "    <tr style=\"text-align: right;\">\n",
       "      <th></th>\n",
       "      <th>Unnamed: 0</th>\n",
       "      <th>name</th>\n",
       "      <th>address</th>\n",
       "      <th>date</th>\n",
       "      <th>brand</th>\n",
       "      <th>do_brand</th>\n",
       "      <th>self</th>\n",
       "      <th>G</th>\n",
       "      <th>D</th>\n",
       "      <th>lat</th>\n",
       "      <th>lon</th>\n",
       "    </tr>\n",
       "  </thead>\n",
       "  <tbody>\n",
       "    <tr>\n",
       "      <th>0</th>\n",
       "      <td>0</td>\n",
       "      <td>(주)동해에너지주유소</td>\n",
       "      <td>강원 강릉시 경강로 2101(임당동)</td>\n",
       "      <td>2020년 06월 1주</td>\n",
       "      <td>SK에너지</td>\n",
       "      <td>SK에너지</td>\n",
       "      <td>셀프</td>\n",
       "      <td>1238.00</td>\n",
       "      <td>1038.00</td>\n",
       "      <td>37.755264</td>\n",
       "      <td>128.896541</td>\n",
       "    </tr>\n",
       "    <tr>\n",
       "      <th>1</th>\n",
       "      <td>1</td>\n",
       "      <td>(주)동해에너지주유소</td>\n",
       "      <td>강원 강릉시 경강로 2101(임당동)</td>\n",
       "      <td>2020년 06월 2주</td>\n",
       "      <td>SK에너지</td>\n",
       "      <td>SK에너지</td>\n",
       "      <td>셀프</td>\n",
       "      <td>1273.00</td>\n",
       "      <td>1073.00</td>\n",
       "      <td>37.755264</td>\n",
       "      <td>128.896541</td>\n",
       "    </tr>\n",
       "    <tr>\n",
       "      <th>2</th>\n",
       "      <td>2</td>\n",
       "      <td>(주)동해에너지주유소</td>\n",
       "      <td>강원 강릉시 경강로 2101(임당동)</td>\n",
       "      <td>2020년 06월 3주</td>\n",
       "      <td>SK에너지</td>\n",
       "      <td>SK에너지</td>\n",
       "      <td>셀프</td>\n",
       "      <td>1290.14</td>\n",
       "      <td>1090.14</td>\n",
       "      <td>37.755264</td>\n",
       "      <td>128.896541</td>\n",
       "    </tr>\n",
       "  </tbody>\n",
       "</table>\n",
       "</div>"
      ],
      "text/plain": [
       "   Unnamed: 0         name               address          date  brand  \\\n",
       "0           0  (주)동해에너지주유소  강원 강릉시 경강로 2101(임당동)  2020년 06월 1주  SK에너지   \n",
       "1           1  (주)동해에너지주유소  강원 강릉시 경강로 2101(임당동)  2020년 06월 2주  SK에너지   \n",
       "2           2  (주)동해에너지주유소  강원 강릉시 경강로 2101(임당동)  2020년 06월 3주  SK에너지   \n",
       "\n",
       "  do_brand self        G        D        lat         lon  \n",
       "0    SK에너지   셀프  1238.00  1038.00  37.755264  128.896541  \n",
       "1    SK에너지   셀프  1273.00  1073.00  37.755264  128.896541  \n",
       "2    SK에너지   셀프  1290.14  1090.14  37.755264  128.896541  "
      ]
     },
     "execution_count": 2,
     "metadata": {},
     "output_type": "execute_result"
    }
   ],
   "source": [
    "df = pd.read_csv('hdo_data_200801.csv')\n",
    "print(df.shape)\n",
    "df.head(3)"
   ]
  },
  {
   "cell_type": "code",
   "execution_count": 3,
   "metadata": {},
   "outputs": [
    {
     "name": "stdout",
     "output_type": "stream",
     "text": [
      "total data samples: (50651, 10)\n",
      "drop duplicated: (10112, 10)\n"
     ]
    },
    {
     "data": {
      "text/html": [
       "<div>\n",
       "<style scoped>\n",
       "    .dataframe tbody tr th:only-of-type {\n",
       "        vertical-align: middle;\n",
       "    }\n",
       "\n",
       "    .dataframe tbody tr th {\n",
       "        vertical-align: top;\n",
       "    }\n",
       "\n",
       "    .dataframe thead th {\n",
       "        text-align: right;\n",
       "    }\n",
       "</style>\n",
       "<table border=\"1\" class=\"dataframe\">\n",
       "  <thead>\n",
       "    <tr style=\"text-align: right;\">\n",
       "      <th></th>\n",
       "      <th>name</th>\n",
       "      <th>address</th>\n",
       "      <th>date</th>\n",
       "      <th>brand</th>\n",
       "      <th>do_brand</th>\n",
       "      <th>self</th>\n",
       "      <th>G</th>\n",
       "      <th>D</th>\n",
       "      <th>lat</th>\n",
       "      <th>lon</th>\n",
       "    </tr>\n",
       "  </thead>\n",
       "  <tbody>\n",
       "    <tr>\n",
       "      <th>0</th>\n",
       "      <td>(주)동해에너지주유소</td>\n",
       "      <td>강원 강릉시 경강로 2101(임당동)</td>\n",
       "      <td>2020년 06월 1주</td>\n",
       "      <td>SK에너지</td>\n",
       "      <td>SK에너지</td>\n",
       "      <td>셀프</td>\n",
       "      <td>1238.00</td>\n",
       "      <td>1038.00</td>\n",
       "      <td>37.755264</td>\n",
       "      <td>128.896541</td>\n",
       "    </tr>\n",
       "    <tr>\n",
       "      <th>5</th>\n",
       "      <td>(주)명진에너지 사천지점</td>\n",
       "      <td>강원도 강릉시 사천면 동해대로 3576</td>\n",
       "      <td>2020년 06월 1주</td>\n",
       "      <td>SK에너지</td>\n",
       "      <td>SK에너지</td>\n",
       "      <td>셀프</td>\n",
       "      <td>1275.57</td>\n",
       "      <td>1075.57</td>\n",
       "      <td>37.805112</td>\n",
       "      <td>128.861278</td>\n",
       "    </tr>\n",
       "    <tr>\n",
       "      <th>10</th>\n",
       "      <td>(주)삼보물류삼보주유소</td>\n",
       "      <td>강원 강릉시 동해대로 3970</td>\n",
       "      <td>2020년 06월 1주</td>\n",
       "      <td>S-OIL</td>\n",
       "      <td>S-OIL</td>\n",
       "      <td>일반</td>\n",
       "      <td>1262.71</td>\n",
       "      <td>1069.86</td>\n",
       "      <td>37.837395</td>\n",
       "      <td>128.844474</td>\n",
       "    </tr>\n",
       "  </tbody>\n",
       "</table>\n",
       "</div>"
      ],
      "text/plain": [
       "             name                address          date  brand do_brand self  \\\n",
       "0     (주)동해에너지주유소   강원 강릉시 경강로 2101(임당동)  2020년 06월 1주  SK에너지    SK에너지   셀프   \n",
       "5   (주)명진에너지 사천지점  강원도 강릉시 사천면 동해대로 3576  2020년 06월 1주  SK에너지    SK에너지   셀프   \n",
       "10   (주)삼보물류삼보주유소       강원 강릉시 동해대로 3970  2020년 06월 1주  S-OIL    S-OIL   일반   \n",
       "\n",
       "          G        D        lat         lon  \n",
       "0   1238.00  1038.00  37.755264  128.896541  \n",
       "5   1275.57  1075.57  37.805112  128.861278  \n",
       "10  1262.71  1069.86  37.837395  128.844474  "
      ]
     },
     "execution_count": 3,
     "metadata": {},
     "output_type": "execute_result"
    }
   ],
   "source": [
    "# csv에서 불러왔을 때 생기는 index 제거, 한번만 실행해야 함\n",
    "df = df.drop('Unnamed: 0', axis=1)\n",
    "print('total data samples: {}'.format(df.shape))\n",
    "df_rm = df.drop_duplicates(['address'])\n",
    "print('drop duplicated: {}'.format(df_rm.shape))\n",
    "df_rm.head(3)"
   ]
  },
  {
   "cell_type": "markdown",
   "metadata": {},
   "source": [
    "> 50651개의 샘플 중 주소 기준으로 고유한 주유소는 10112개"
   ]
  },
  {
   "cell_type": "markdown",
   "metadata": {},
   "source": [
    "#### test1"
   ]
  },
  {
   "cell_type": "code",
   "execution_count": 4,
   "metadata": {},
   "outputs": [],
   "source": [
    "name1 = '(주)동해에너지주유소'\n",
    "name2 = '황제주유소'\n",
    "name3 = '사우디주유소'\n",
    "name4 = '두바이주유소'"
   ]
  },
  {
   "cell_type": "code",
   "execution_count": 5,
   "metadata": {},
   "outputs": [],
   "source": [
    "# class에 기본이 되는 DataFrame 입력\n",
    "t = check_price(df)"
   ]
  },
  {
   "cell_type": "code",
   "execution_count": 6,
   "metadata": {},
   "outputs": [
    {
     "data": {
      "text/plain": [
       "[array(['황제주유소', '경기 이천시 부발읍 경충대로 2064', '2020년 06월 1주', 'SK에너지', 'SK에너지',\n",
       "        '일반', 1409.0, 1241.0, 37.249522999999996, 127.49142169999999],\n",
       "       dtype=object),\n",
       " array(['황제주유소', '경북 경산시 진량읍 황제1길 100', '2020년 06월 1주', 'S-OIL', 'S-OIL',\n",
       "        '일반', 1318.0, 1118.0, 35.86171810000001, 128.8183953], dtype=object),\n",
       " array(['황제주유소', '충북 충주시 신니면 중원대로 5775', '2020년 06월 1주', 'GS칼텍스', 'GS칼텍스',\n",
       "        '일반', 1307.14, 1107.14, 37.0021292, 127.673717], dtype=object)]"
      ]
     },
     "execution_count": 6,
     "metadata": {},
     "output_type": "execute_result"
    }
   ],
   "source": [
    "# '황제주유소'에 관한 정보들\n",
    "t.check_duplicate(name2)"
   ]
  },
  {
   "cell_type": "code",
   "execution_count": 7,
   "metadata": {},
   "outputs": [
    {
     "data": {
      "text/plain": [
       "[array(['국원주유소', '충북 충주시 신니면 신덕로 339', '2020년 06월 1주', 'S-OIL', 'S-OIL',\n",
       "        '일반', 1369.0, 1169.0, 37.0008019, 127.69026170000001], dtype=object),\n",
       " array(['서충주IC주유소', '충북 충주시 신니면 신덕로 225', '2020년 06월 1주', '현대오일뱅크',\n",
       "        '현대오일뱅크', '일반', 1359.0, 1159.0, 37.0048485, 127.6787553],\n",
       "       dtype=object)]"
      ]
     },
     "execution_count": 7,
     "metadata": {},
     "output_type": "execute_result"
    }
   ],
   "source": [
    "# 위의 세 번째(index=2) 충북 충주의 황제주유소 기준으로 반경 3km의 주유소\n",
    "t.get_near_by_idx(2, 3)"
   ]
  },
  {
   "cell_type": "code",
   "execution_count": 8,
   "metadata": {},
   "outputs": [
    {
     "name": "stdout",
     "output_type": "stream",
     "text": [
      "지정한 날짜는: 2020년 06월 2주\n",
      "해당 날짜의 근처 경쟁사들의 정보:\n",
      "[array(['국원주유소', '충북 충주시 신니면 신덕로 339', '2020년 06월 2주', 'S-OIL', 'S-OIL',\n",
      "       '일반', 1373.29, 1173.29, 37.0008019, 127.69026170000001],\n",
      "      dtype=object)]\n"
     ]
    },
    {
     "data": {
      "text/plain": [
       "(1373.29, 1173.29)"
      ]
     },
     "execution_count": 8,
     "metadata": {},
     "output_type": "execute_result"
    }
   ],
   "source": [
    "# 해당 날짜의 근처 경쟁사 가격 정보 추출\n",
    "t.get_average(2020, 6, 2)"
   ]
  },
  {
   "cell_type": "markdown",
   "metadata": {},
   "source": [
    "#### test2"
   ]
  },
  {
   "cell_type": "code",
   "execution_count": 9,
   "metadata": {},
   "outputs": [
    {
     "data": {
      "text/plain": [
       "[array(['사우디주유소', '경기 용인시 처인구 백암면 죽양대로 685', '2020년 06월 1주', 'SK에너지',\n",
       "        'SK에너지', '일반', 1299.0, 1166.86, 37.1327982, 127.4050438],\n",
       "       dtype=object),\n",
       " array(['사우디주유소', '경남 진주시 천수로 122 (주약동)', '2020년 06월 1주', 'SK에너지', 'SK에너지',\n",
       "        '셀프', 1247.57, 1047.57, 35.1761837, 128.08758840000002],\n",
       "       dtype=object)]"
      ]
     },
     "execution_count": 9,
     "metadata": {},
     "output_type": "execute_result"
    }
   ],
   "source": [
    "t.check_duplicate(name3)"
   ]
  },
  {
   "cell_type": "code",
   "execution_count": 10,
   "metadata": {},
   "outputs": [
    {
     "data": {
      "text/plain": [
       "[array(['비룡주유소', '경기 안성시 일죽면 죽양대로 530', '2020년 06월 1주', 'S-OIL', 'S-OIL',\n",
       "        '일반', 1284.0, 1085.43, 37.123882200000004, 127.41831909999999],\n",
       "       dtype=object),\n",
       " array(['삼보주유소', '경기 안성시 일죽면 죽양대로 505', '2020년 06월 1주', 'GS칼텍스', 'GS칼텍스',\n",
       "        '일반', 1244.14, 1045.71, 37.122006400000004, 127.4201666],\n",
       "       dtype=object),\n",
       " array(['은석주유소', '경기 안성시 일죽면 사실로 335', '2020년 06월 1주', 'GS칼텍스', 'GS칼텍스',\n",
       "        '일반', 1341.86, 1141.86, 37.14131920000001, 127.4365218],\n",
       "       dtype=object),\n",
       " array(['믿음가득주유소', '경기 용인시 처인구 백암면 죽양대로 820', '2020년 06월 1주', '현대오일뱅크',\n",
       "        '현대오일뱅크', '일반', 1296.57, 1093.71, 37.1409844, 127.3937652],\n",
       "       dtype=object),\n",
       " array(['백봉주유소', '경기 용인시 처인구 백암면 백암로 23', '2020년 06월 1주', '현대오일뱅크',\n",
       "        '현대오일뱅크', '일반', 1286.43, 1089.43, 37.151439, 127.3858134],\n",
       "       dtype=object)]"
      ]
     },
     "execution_count": 10,
     "metadata": {},
     "output_type": "execute_result"
    }
   ],
   "source": [
    "t.get_near_by_idx(0, 3)"
   ]
  },
  {
   "cell_type": "code",
   "execution_count": 11,
   "metadata": {},
   "outputs": [
    {
     "name": "stdout",
     "output_type": "stream",
     "text": [
      "지정한 날짜는: 2020년 06월 4주\n",
      "해당 날짜의 근처 경쟁사들의 정보:\n",
      "[array(['비룡주유소', '경기 안성시 일죽면 죽양대로 530', '2020년 06월 4주', 'S-OIL', 'S-OIL',\n",
      "       '일반', 1340.71, 1143.57, 37.123882200000004, 127.41831909999999],\n",
      "      dtype=object), array(['삼보주유소', '경기 안성시 일죽면 죽양대로 505', '2020년 06월 4주', 'GS칼텍스', 'GS칼텍스',\n",
      "       '일반', 1330.43, 1129.57, 37.122006400000004, 127.4201666],\n",
      "      dtype=object), array(['은석주유소', '경기 안성시 일죽면 사실로 335', '2020년 06월 4주', 'GS칼텍스', 'GS칼텍스',\n",
      "       '일반', 1389.0, 1189.0, 37.14131920000001, 127.4365218], dtype=object)]\n"
     ]
    },
    {
     "data": {
      "text/plain": [
       "(1353.38, 1154.0466666666666)"
      ]
     },
     "execution_count": 11,
     "metadata": {},
     "output_type": "execute_result"
    }
   ],
   "source": [
    "t.get_average(2020, 6, 4)"
   ]
  },
  {
   "cell_type": "code",
   "execution_count": null,
   "metadata": {},
   "outputs": [],
   "source": []
  }
 ],
 "metadata": {
  "kernelspec": {
   "display_name": "Python 3",
   "language": "python",
   "name": "python3"
  },
  "language_info": {
   "codemirror_mode": {
    "name": "ipython",
    "version": 3
   },
   "file_extension": ".py",
   "mimetype": "text/x-python",
   "name": "python",
   "nbconvert_exporter": "python",
   "pygments_lexer": "ipython3",
   "version": "3.8.3"
  }
 },
 "nbformat": 4,
 "nbformat_minor": 4
}
