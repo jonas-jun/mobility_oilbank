{
 "cells": [
  {
   "cell_type": "markdown",
   "metadata": {},
   "source": [
    "## to do\n",
    "\n",
    "각 hdo 직영 주유소들 기준으로 반경 1km 내의 경쟁사 주유소들과의 게시가 차이를 주차별로 계산\n",
    "\n",
    "    1. 특정 이름을 가진 sample들을 추출하여 모든 정보를 list로 뽑아내기. 이후 사용자가 올바른 것 선택\n",
    "        input args: name\n",
    "        output: [all arrays with target name]\n",
    "    \n",
    "    2. 1에서 뽑은 리스트에서 타겟 index를 골라주면, 주변 (distance)km 주유소들의 정보를 모두 뽑아내기\n",
    "        input args: index, distance\n",
    "        output: [all arrays with target stations]\n",
    "        \n",
    "    3. 특정 시점에 근처 경쟁 주유소들의 게시가격 평균 구하기\n",
    "        input args: date\n",
    "        output: (mean(G), mean(D))\n",
    "\n",
    "    4. Mapping class 구현 (folium)\n",
    "        input args: dateframe\n",
    "        output: map (.html)"
   ]
  },
  {
   "cell_type": "code",
   "execution_count": 1,
   "metadata": {
    "tags": []
   },
   "outputs": [],
   "source": [
    "import pandas as pd\n",
    "import numpy as np\n",
    "from haversine import haversine\n",
    "import folium\n",
    "import os\n",
    "from mj_tools import check_price"
   ]
  },
  {
   "cell_type": "code",
   "execution_count": 2,
   "metadata": {
    "tags": []
   },
   "outputs": [
    {
     "output_type": "stream",
     "name": "stdout",
     "text": "(50651, 11)\n"
    },
    {
     "output_type": "execute_result",
     "data": {
      "text/plain": "   Unnamed: 0         name               address          date  brand  \\\n0           0  (주)동해에너지주유소  강원 강릉시 경강로 2101(임당동)  2020년 06월 1주  SK에너지   \n1           1  (주)동해에너지주유소  강원 강릉시 경강로 2101(임당동)  2020년 06월 2주  SK에너지   \n2           2  (주)동해에너지주유소  강원 강릉시 경강로 2101(임당동)  2020년 06월 3주  SK에너지   \n\n  do_brand self        G        D        lat         lon  \n0    SK에너지   셀프  1238.00  1038.00  37.755264  128.896541  \n1    SK에너지   셀프  1273.00  1073.00  37.755264  128.896541  \n2    SK에너지   셀프  1290.14  1090.14  37.755264  128.896541  ",
      "text/html": "<div>\n<style scoped>\n    .dataframe tbody tr th:only-of-type {\n        vertical-align: middle;\n    }\n\n    .dataframe tbody tr th {\n        vertical-align: top;\n    }\n\n    .dataframe thead th {\n        text-align: right;\n    }\n</style>\n<table border=\"1\" class=\"dataframe\">\n  <thead>\n    <tr style=\"text-align: right;\">\n      <th></th>\n      <th>Unnamed: 0</th>\n      <th>name</th>\n      <th>address</th>\n      <th>date</th>\n      <th>brand</th>\n      <th>do_brand</th>\n      <th>self</th>\n      <th>G</th>\n      <th>D</th>\n      <th>lat</th>\n      <th>lon</th>\n    </tr>\n  </thead>\n  <tbody>\n    <tr>\n      <th>0</th>\n      <td>0</td>\n      <td>(주)동해에너지주유소</td>\n      <td>강원 강릉시 경강로 2101(임당동)</td>\n      <td>2020년 06월 1주</td>\n      <td>SK에너지</td>\n      <td>SK에너지</td>\n      <td>셀프</td>\n      <td>1238.00</td>\n      <td>1038.00</td>\n      <td>37.755264</td>\n      <td>128.896541</td>\n    </tr>\n    <tr>\n      <th>1</th>\n      <td>1</td>\n      <td>(주)동해에너지주유소</td>\n      <td>강원 강릉시 경강로 2101(임당동)</td>\n      <td>2020년 06월 2주</td>\n      <td>SK에너지</td>\n      <td>SK에너지</td>\n      <td>셀프</td>\n      <td>1273.00</td>\n      <td>1073.00</td>\n      <td>37.755264</td>\n      <td>128.896541</td>\n    </tr>\n    <tr>\n      <th>2</th>\n      <td>2</td>\n      <td>(주)동해에너지주유소</td>\n      <td>강원 강릉시 경강로 2101(임당동)</td>\n      <td>2020년 06월 3주</td>\n      <td>SK에너지</td>\n      <td>SK에너지</td>\n      <td>셀프</td>\n      <td>1290.14</td>\n      <td>1090.14</td>\n      <td>37.755264</td>\n      <td>128.896541</td>\n    </tr>\n  </tbody>\n</table>\n</div>"
     },
     "metadata": {},
     "execution_count": 2
    }
   ],
   "source": [
    "df = pd.read_csv('hdo_data_200801.csv')\n",
    "print(df.shape)\n",
    "df.head(3)"
   ]
  },
  {
   "cell_type": "code",
   "execution_count": 3,
   "metadata": {
    "tags": []
   },
   "outputs": [
    {
     "output_type": "stream",
     "name": "stdout",
     "text": "total data samples: (50651, 10)\ndrop duplicated: (10112, 10)\n"
    },
    {
     "output_type": "execute_result",
     "data": {
      "text/plain": "             name                address          date  brand do_brand self  \\\n0     (주)동해에너지주유소   강원 강릉시 경강로 2101(임당동)  2020년 06월 1주  SK에너지    SK에너지   셀프   \n5   (주)명진에너지 사천지점  강원도 강릉시 사천면 동해대로 3576  2020년 06월 1주  SK에너지    SK에너지   셀프   \n10   (주)삼보물류삼보주유소       강원 강릉시 동해대로 3970  2020년 06월 1주  S-OIL    S-OIL   일반   \n\n          G        D        lat         lon  \n0   1238.00  1038.00  37.755264  128.896541  \n5   1275.57  1075.57  37.805112  128.861278  \n10  1262.71  1069.86  37.837395  128.844474  ",
      "text/html": "<div>\n<style scoped>\n    .dataframe tbody tr th:only-of-type {\n        vertical-align: middle;\n    }\n\n    .dataframe tbody tr th {\n        vertical-align: top;\n    }\n\n    .dataframe thead th {\n        text-align: right;\n    }\n</style>\n<table border=\"1\" class=\"dataframe\">\n  <thead>\n    <tr style=\"text-align: right;\">\n      <th></th>\n      <th>name</th>\n      <th>address</th>\n      <th>date</th>\n      <th>brand</th>\n      <th>do_brand</th>\n      <th>self</th>\n      <th>G</th>\n      <th>D</th>\n      <th>lat</th>\n      <th>lon</th>\n    </tr>\n  </thead>\n  <tbody>\n    <tr>\n      <th>0</th>\n      <td>(주)동해에너지주유소</td>\n      <td>강원 강릉시 경강로 2101(임당동)</td>\n      <td>2020년 06월 1주</td>\n      <td>SK에너지</td>\n      <td>SK에너지</td>\n      <td>셀프</td>\n      <td>1238.00</td>\n      <td>1038.00</td>\n      <td>37.755264</td>\n      <td>128.896541</td>\n    </tr>\n    <tr>\n      <th>5</th>\n      <td>(주)명진에너지 사천지점</td>\n      <td>강원도 강릉시 사천면 동해대로 3576</td>\n      <td>2020년 06월 1주</td>\n      <td>SK에너지</td>\n      <td>SK에너지</td>\n      <td>셀프</td>\n      <td>1275.57</td>\n      <td>1075.57</td>\n      <td>37.805112</td>\n      <td>128.861278</td>\n    </tr>\n    <tr>\n      <th>10</th>\n      <td>(주)삼보물류삼보주유소</td>\n      <td>강원 강릉시 동해대로 3970</td>\n      <td>2020년 06월 1주</td>\n      <td>S-OIL</td>\n      <td>S-OIL</td>\n      <td>일반</td>\n      <td>1262.71</td>\n      <td>1069.86</td>\n      <td>37.837395</td>\n      <td>128.844474</td>\n    </tr>\n  </tbody>\n</table>\n</div>"
     },
     "metadata": {},
     "execution_count": 3
    }
   ],
   "source": [
    "# csv에서 불러왔을 때 생기는 index 제거, 한번만 실행해야 함\n",
    "df = df.drop('Unnamed: 0', axis=1)\n",
    "print('total data samples: {}'.format(df.shape))\n",
    "df_rm = df.drop_duplicates(['address'])\n",
    "print('drop duplicated: {}'.format(df_rm.shape))\n",
    "df_rm.head(3)"
   ]
  },
  {
   "cell_type": "markdown",
   "metadata": {},
   "source": [
    "> 50651개의 샘플 중 주소 기준으로 고유한 주유소는 10112개"
   ]
  },
  {
   "cell_type": "markdown",
   "metadata": {},
   "source": [
    "#### test1"
   ]
  },
  {
   "cell_type": "code",
   "execution_count": 4,
   "metadata": {},
   "outputs": [],
   "source": [
    "name1 = '(주)동해에너지주유소'\n",
    "name2 = '황제주유소'\n",
    "name3 = '사우디주유소'\n",
    "name4 = '두바이주유소'\n",
    "name5 = '문성골주유소'\n",
    "name6 = 'SK에너지(주) 이가주유소'"
   ]
  },
  {
   "cell_type": "code",
   "execution_count": 5,
   "metadata": {},
   "outputs": [],
   "source": [
    "# class에 기본이 되는 DataFrame 입력\n",
    "t = check_price(df)"
   ]
  },
  {
   "cell_type": "code",
   "execution_count": 6,
   "metadata": {},
   "outputs": [
    {
     "output_type": "execute_result",
     "data": {
      "text/plain": "[array(['황제주유소', '경기 이천시 부발읍 경충대로 2064', '2020년 06월 1주', 'SK에너지', 'SK에너지',\n        '일반', 1409.0, 1241.0, 37.249522999999996, 127.49142169999999],\n       dtype=object),\n array(['황제주유소', '경북 경산시 진량읍 황제1길 100', '2020년 06월 1주', 'S-OIL', 'S-OIL',\n        '일반', 1318.0, 1118.0, 35.86171810000001, 128.8183953], dtype=object),\n array(['황제주유소', '충북 충주시 신니면 중원대로 5775', '2020년 06월 1주', 'GS칼텍스', 'GS칼텍스',\n        '일반', 1307.14, 1107.14, 37.0021292, 127.673717], dtype=object)]"
     },
     "metadata": {},
     "execution_count": 6
    }
   ],
   "source": [
    "# '황제주유소'에 관한 정보들\n",
    "t.check_duplicate(name2)"
   ]
  },
  {
   "cell_type": "code",
   "execution_count": 7,
   "metadata": {},
   "outputs": [
    {
     "output_type": "execute_result",
     "data": {
      "text/plain": "2"
     },
     "metadata": {},
     "execution_count": 7
    }
   ],
   "source": [
    "# 위의 세 번째(index=2) 충북 충주의 황제주유소 기준으로 반경 3km의 주유소\n",
    "len(t.get_near_by_idx(2, 3))"
   ]
  },
  {
   "cell_type": "code",
   "execution_count": 8,
   "metadata": {
    "tags": []
   },
   "outputs": [
    {
     "output_type": "stream",
     "name": "stdout",
     "text": "지정한 날짜는: 2020년 06월 3주\n해당 날짜의 근처 경쟁사들의 정보:\n[array(['국원주유소', '충북 충주시 신니면 신덕로 339', '2020년 06월 3주', 'S-OIL', 'S-OIL',\n       '일반', 1399.0, 1199.0, 37.0008019, 127.69026170000001], dtype=object)]\n"
    },
    {
     "output_type": "execute_result",
     "data": {
      "text/plain": "(1399.0, 1199.0)"
     },
     "metadata": {},
     "execution_count": 8
    }
   ],
   "source": [
    "# 해당 날짜의 근처 경쟁사 가격 정보 추출\n",
    "t.get_average(2020, 6, 3)"
   ]
  },
  {
   "cell_type": "markdown",
   "metadata": {},
   "source": [
    "#### test2"
   ]
  },
  {
   "cell_type": "code",
   "execution_count": 9,
   "metadata": {},
   "outputs": [
    {
     "output_type": "execute_result",
     "data": {
      "text/plain": "[array(['사우디주유소', '경기 용인시 처인구 백암면 죽양대로 685', '2020년 06월 1주', 'SK에너지',\n        'SK에너지', '일반', 1299.0, 1166.86, 37.1327982, 127.4050438],\n       dtype=object),\n array(['사우디주유소', '경남 진주시 천수로 122 (주약동)', '2020년 06월 1주', 'SK에너지', 'SK에너지',\n        '셀프', 1247.57, 1047.57, 35.1761837, 128.08758840000002],\n       dtype=object)]"
     },
     "metadata": {},
     "execution_count": 9
    }
   ],
   "source": [
    "t.check_duplicate(name3)"
   ]
  },
  {
   "cell_type": "code",
   "execution_count": 10,
   "metadata": {},
   "outputs": [
    {
     "output_type": "execute_result",
     "data": {
      "text/plain": "[array(['비룡주유소', '경기 안성시 일죽면 죽양대로 530', '2020년 06월 1주', 'S-OIL', 'S-OIL',\n        '일반', 1284.0, 1085.43, 37.123882200000004, 127.41831909999999],\n       dtype=object),\n array(['삼보주유소', '경기 안성시 일죽면 죽양대로 505', '2020년 06월 1주', 'GS칼텍스', 'GS칼텍스',\n        '일반', 1244.14, 1045.71, 37.122006400000004, 127.4201666],\n       dtype=object),\n array(['은석주유소', '경기 안성시 일죽면 사실로 335', '2020년 06월 1주', 'GS칼텍스', 'GS칼텍스',\n        '일반', 1341.86, 1141.86, 37.14131920000001, 127.4365218],\n       dtype=object),\n array(['믿음가득주유소', '경기 용인시 처인구 백암면 죽양대로 820', '2020년 06월 1주', '현대오일뱅크',\n        '현대오일뱅크', '일반', 1296.57, 1093.71, 37.1409844, 127.3937652],\n       dtype=object),\n array(['백봉주유소', '경기 용인시 처인구 백암면 백암로 23', '2020년 06월 1주', '현대오일뱅크',\n        '현대오일뱅크', '일반', 1286.43, 1089.43, 37.151439, 127.3858134],\n       dtype=object)]"
     },
     "metadata": {},
     "execution_count": 10
    }
   ],
   "source": [
    "t.get_near_by_idx(0, 3)"
   ]
  },
  {
   "cell_type": "code",
   "execution_count": 11,
   "metadata": {
    "tags": []
   },
   "outputs": [
    {
     "output_type": "stream",
     "name": "stdout",
     "text": "지정한 날짜는: 2020년 06월 4주\n해당 날짜의 근처 경쟁사들의 정보:\n[array(['비룡주유소', '경기 안성시 일죽면 죽양대로 530', '2020년 06월 4주', 'S-OIL', 'S-OIL',\n       '일반', 1340.71, 1143.57, 37.123882200000004, 127.41831909999999],\n      dtype=object), array(['삼보주유소', '경기 안성시 일죽면 죽양대로 505', '2020년 06월 4주', 'GS칼텍스', 'GS칼텍스',\n       '일반', 1330.43, 1129.57, 37.122006400000004, 127.4201666],\n      dtype=object), array(['은석주유소', '경기 안성시 일죽면 사실로 335', '2020년 06월 4주', 'GS칼텍스', 'GS칼텍스',\n       '일반', 1389.0, 1189.0, 37.14131920000001, 127.4365218], dtype=object)]\n"
    },
    {
     "output_type": "execute_result",
     "data": {
      "text/plain": "(1353.38, 1154.0466666666666)"
     },
     "metadata": {},
     "execution_count": 11
    }
   ],
   "source": [
    "t.get_average(2020, 6, 4)"
   ]
  },
  {
   "cell_type": "markdown",
   "metadata": {},
   "source": [
    "## Mapping Test\n",
    "\n",
    "- mapping gs칼텍스 and S-oil self stations"
   ]
  },
  {
   "cell_type": "code",
   "execution_count": 12,
   "metadata": {},
   "outputs": [],
   "source": [
    "from mj_tools import mapping"
   ]
  },
  {
   "cell_type": "code",
   "execution_count": 13,
   "metadata": {
    "tags": []
   },
   "outputs": [
    {
     "output_type": "stream",
     "name": "stdout",
     "text": "GS칼텍스 데이터프레임: (891, 10)\nS-OIL 데이터프레임: (842, 10)\n"
    },
    {
     "output_type": "execute_result",
     "data": {
      "text/plain": "               name                 address          date  brand do_brand  \\\n30        GS교동택지주유소       강원 강릉시 교동하슬라로 233  2020년 06월 1주  GS칼텍스    GS칼텍스   \n100         기분좋은주유소   강원 강릉시 경강로 1843 (홍제동)  2020년 06월 1주  GS칼텍스    GS칼텍스   \n110           남산주유소    강원 강릉시 남부로 136 (노암동)  2020년 06월 1주  GS칼텍스    GS칼텍스   \n175           사천주유소    강원 강릉시 사천면 동해대로 3662  2020년 06월 1주  GS칼텍스    GS칼텍스   \n281  지에스칼텍스㈜ 죽헌동주유소  강원 강릉시 동해대로 3373 (죽헌동)  2020년 06월 1주  GS칼텍스    GS칼텍스   \n\n    self        G        D        lat         lon  \n30    셀프  1335.14  1146.14        NaN         NaN  \n100   셀프  1251.14  1071.14  37.746458  128.870991  \n110   셀프  1246.43  1056.86  37.741989  128.895356  \n175   셀프  1277.00  1077.00  37.812005  128.856942  \n281   셀프  1272.29  1072.29  37.789760  128.867813  ",
      "text/html": "<div>\n<style scoped>\n    .dataframe tbody tr th:only-of-type {\n        vertical-align: middle;\n    }\n\n    .dataframe tbody tr th {\n        vertical-align: top;\n    }\n\n    .dataframe thead th {\n        text-align: right;\n    }\n</style>\n<table border=\"1\" class=\"dataframe\">\n  <thead>\n    <tr style=\"text-align: right;\">\n      <th></th>\n      <th>name</th>\n      <th>address</th>\n      <th>date</th>\n      <th>brand</th>\n      <th>do_brand</th>\n      <th>self</th>\n      <th>G</th>\n      <th>D</th>\n      <th>lat</th>\n      <th>lon</th>\n    </tr>\n  </thead>\n  <tbody>\n    <tr>\n      <th>30</th>\n      <td>GS교동택지주유소</td>\n      <td>강원 강릉시 교동하슬라로 233</td>\n      <td>2020년 06월 1주</td>\n      <td>GS칼텍스</td>\n      <td>GS칼텍스</td>\n      <td>셀프</td>\n      <td>1335.14</td>\n      <td>1146.14</td>\n      <td>NaN</td>\n      <td>NaN</td>\n    </tr>\n    <tr>\n      <th>100</th>\n      <td>기분좋은주유소</td>\n      <td>강원 강릉시 경강로 1843 (홍제동)</td>\n      <td>2020년 06월 1주</td>\n      <td>GS칼텍스</td>\n      <td>GS칼텍스</td>\n      <td>셀프</td>\n      <td>1251.14</td>\n      <td>1071.14</td>\n      <td>37.746458</td>\n      <td>128.870991</td>\n    </tr>\n    <tr>\n      <th>110</th>\n      <td>남산주유소</td>\n      <td>강원 강릉시 남부로 136 (노암동)</td>\n      <td>2020년 06월 1주</td>\n      <td>GS칼텍스</td>\n      <td>GS칼텍스</td>\n      <td>셀프</td>\n      <td>1246.43</td>\n      <td>1056.86</td>\n      <td>37.741989</td>\n      <td>128.895356</td>\n    </tr>\n    <tr>\n      <th>175</th>\n      <td>사천주유소</td>\n      <td>강원 강릉시 사천면 동해대로 3662</td>\n      <td>2020년 06월 1주</td>\n      <td>GS칼텍스</td>\n      <td>GS칼텍스</td>\n      <td>셀프</td>\n      <td>1277.00</td>\n      <td>1077.00</td>\n      <td>37.812005</td>\n      <td>128.856942</td>\n    </tr>\n    <tr>\n      <th>281</th>\n      <td>지에스칼텍스㈜ 죽헌동주유소</td>\n      <td>강원 강릉시 동해대로 3373 (죽헌동)</td>\n      <td>2020년 06월 1주</td>\n      <td>GS칼텍스</td>\n      <td>GS칼텍스</td>\n      <td>셀프</td>\n      <td>1272.29</td>\n      <td>1072.29</td>\n      <td>37.789760</td>\n      <td>128.867813</td>\n    </tr>\n  </tbody>\n</table>\n</div>"
     },
     "metadata": {},
     "execution_count": 13
    }
   ],
   "source": [
    "df_gs = df_rm.loc[(df_rm['brand']=='GS칼텍스') & (df_rm['self']=='셀프')]\n",
    "df_soil = df_rm.loc[(df_rm['brand']=='S-OIL') & (df_rm['self']=='셀프')]\n",
    "\n",
    "print('GS칼텍스 데이터프레임: {}'.format(df_gs.shape))\n",
    "print('S-OIL 데이터프레임: {}'.format(df_soil.shape))\n",
    "\n",
    "df_gs.head()"
   ]
  },
  {
   "cell_type": "code",
   "execution_count": 14,
   "metadata": {
    "tags": []
   },
   "outputs": [
    {
     "output_type": "stream",
     "name": "stdout",
     "text": "<class 'pandas.core.frame.DataFrame'>\nInt64Index: 891 entries, 30 to 50434\nData columns (total 10 columns):\n #   Column    Non-Null Count  Dtype  \n---  ------    --------------  -----  \n 0   name      891 non-null    object \n 1   address   891 non-null    object \n 2   date      891 non-null    object \n 3   brand     891 non-null    object \n 4   do_brand  891 non-null    object \n 5   self      891 non-null    object \n 6   G         891 non-null    float64\n 7   D         891 non-null    float64\n 8   lat       871 non-null    float64\n 9   lon       871 non-null    float64\ndtypes: float64(4), object(6)\nmemory usage: 76.6+ KB\n"
    }
   ],
   "source": [
    "df_gs.info()"
   ]
  },
  {
   "cell_type": "code",
   "execution_count": 15,
   "metadata": {},
   "outputs": [],
   "source": [
    "# raise ValueError if there is any NaN in table\n",
    "df_gs.dropna(subset=['lat', 'lon'], inplace=True)\n",
    "df_soil.dropna(subset=['lat', 'lon'], inplace=True)"
   ]
  },
  {
   "cell_type": "code",
   "execution_count": 16,
   "metadata": {
    "tags": []
   },
   "outputs": [
    {
     "output_type": "stream",
     "name": "stdout",
     "text": "<class 'pandas.core.frame.DataFrame'>\nInt64Index: 871 entries, 100 to 50434\nData columns (total 10 columns):\n #   Column    Non-Null Count  Dtype  \n---  ------    --------------  -----  \n 0   name      871 non-null    object \n 1   address   871 non-null    object \n 2   date      871 non-null    object \n 3   brand     871 non-null    object \n 4   do_brand  871 non-null    object \n 5   self      871 non-null    object \n 6   G         871 non-null    float64\n 7   D         871 non-null    float64\n 8   lat       871 non-null    float64\n 9   lon       871 non-null    float64\ndtypes: float64(4), object(6)\nmemory usage: 74.9+ KB\n"
    }
   ],
   "source": [
    "df_gs.info()"
   ]
  },
  {
   "cell_type": "code",
   "execution_count": 17,
   "metadata": {},
   "outputs": [],
   "source": [
    "map = mapping()"
   ]
  },
  {
   "cell_type": "code",
   "execution_count": 18,
   "metadata": {
    "tags": []
   },
   "outputs": [
    {
     "output_type": "stream",
     "name": "stdout",
     "text": "added 871 points!\nadded 821 points!\n"
    }
   ],
   "source": [
    "'''\n",
    "각각 추가\n",
    "color options: ['beige', 'black', 'blue', 'cadetblue', 'darkblue', 'darkgreen', \n",
    "                'darkpurple', 'darkred', 'gray', 'green', 'lightblue', 'lightgray',                     'lightgreen', 'lightred', 'orange', 'pink', 'purple', 'red', 'white']\n",
    "'''\n",
    "\n",
    "map.add_circle(df=df_gs, color='darkgreen', radius=5)\n",
    "map.add_circle(df=df_soil, color='orange', radius=5)"
   ]
  },
  {
   "cell_type": "code",
   "execution_count": 19,
   "metadata": {},
   "outputs": [],
   "source": [
    "map.export_map('test')"
   ]
  },
  {
   "cell_type": "code",
   "execution_count": null,
   "metadata": {},
   "outputs": [],
   "source": []
  }
 ],
 "metadata": {
  "kernelspec": {
   "display_name": "Python 3.8.3 64-bit ('hdo': conda)",
   "language": "python",
   "name": "python_defaultSpec_1596906396599"
  },
  "language_info": {
   "codemirror_mode": {
    "name": "ipython",
    "version": 3
   },
   "file_extension": ".py",
   "mimetype": "text/x-python",
   "name": "python",
   "nbconvert_exporter": "python",
   "pygments_lexer": "ipython3",
   "version": "3.8.3-final"
  }
 },
 "nbformat": 4,
 "nbformat_minor": 4
}