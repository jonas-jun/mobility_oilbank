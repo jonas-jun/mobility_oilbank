{
 "cells": [
  {
   "cell_type": "markdown",
   "metadata": {},
   "source": [
    "## to do\n",
    "\n",
    "각 hdo 직영 주유소들 기준으로 반경 1km 내의 경쟁사 주유소들과의 게시가 차이를 주차별로 계산\n",
    "\n",
    "    1. 특정 이름을 가진 sample들을 추출하여 모든 정보를 list로 뽑아내기. 이후 사용자가 올바른 것 선택\n",
    "        input args: name\n",
    "        output: [all arrays with target name]\n",
    "    \n",
    "    2. 1에서 뽑은 리스트에서 타겟 index를 골라주면, 주변 (distance)km 주유소들의 정보를 모두 뽑아내기\n",
    "        input args: index, distance\n",
    "        output: [all arrays with target stations]\n",
    "        \n",
    "    3. 특정 시점에 근처 경쟁 주유소들의 게시가격 평균 구하기\n",
    "        input args: date\n",
    "        output: (mean(G), mean(D))"
   ]
  },
  {
   "cell_type": "code",
   "execution_count": 1,
   "metadata": {
    "tags": []
   },
   "outputs": [
    {
     "output_type": "stream",
     "name": "stdout",
     "text": "[]\n"
    }
   ],
   "source": [
    "import pandas as pd\n",
    "import numpy as np\n",
    "from haversine import haversine\n",
    "import folium\n",
    "import os\n",
    "from mj_tools import check_price"
   ]
  },
  {
   "cell_type": "code",
   "execution_count": 2,
   "metadata": {
    "tags": []
   },
   "outputs": [
    {
     "output_type": "stream",
     "name": "stdout",
     "text": "(50651, 11)\n"
    },
    {
     "output_type": "execute_result",
     "data": {
      "text/plain": "   Unnamed: 0         name               address          date  brand  \\\n0           0  (주)동해에너지주유소  강원 강릉시 경강로 2101(임당동)  2020년 06월 1주  SK에너지   \n1           1  (주)동해에너지주유소  강원 강릉시 경강로 2101(임당동)  2020년 06월 2주  SK에너지   \n2           2  (주)동해에너지주유소  강원 강릉시 경강로 2101(임당동)  2020년 06월 3주  SK에너지   \n\n  do_brand self        G        D        lat         lon  \n0    SK에너지   셀프  1238.00  1038.00  37.755264  128.896541  \n1    SK에너지   셀프  1273.00  1073.00  37.755264  128.896541  \n2    SK에너지   셀프  1290.14  1090.14  37.755264  128.896541  ",
      "text/html": "<div>\n<style scoped>\n    .dataframe tbody tr th:only-of-type {\n        vertical-align: middle;\n    }\n\n    .dataframe tbody tr th {\n        vertical-align: top;\n    }\n\n    .dataframe thead th {\n        text-align: right;\n    }\n</style>\n<table border=\"1\" class=\"dataframe\">\n  <thead>\n    <tr style=\"text-align: right;\">\n      <th></th>\n      <th>Unnamed: 0</th>\n      <th>name</th>\n      <th>address</th>\n      <th>date</th>\n      <th>brand</th>\n      <th>do_brand</th>\n      <th>self</th>\n      <th>G</th>\n      <th>D</th>\n      <th>lat</th>\n      <th>lon</th>\n    </tr>\n  </thead>\n  <tbody>\n    <tr>\n      <th>0</th>\n      <td>0</td>\n      <td>(주)동해에너지주유소</td>\n      <td>강원 강릉시 경강로 2101(임당동)</td>\n      <td>2020년 06월 1주</td>\n      <td>SK에너지</td>\n      <td>SK에너지</td>\n      <td>셀프</td>\n      <td>1238.00</td>\n      <td>1038.00</td>\n      <td>37.755264</td>\n      <td>128.896541</td>\n    </tr>\n    <tr>\n      <th>1</th>\n      <td>1</td>\n      <td>(주)동해에너지주유소</td>\n      <td>강원 강릉시 경강로 2101(임당동)</td>\n      <td>2020년 06월 2주</td>\n      <td>SK에너지</td>\n      <td>SK에너지</td>\n      <td>셀프</td>\n      <td>1273.00</td>\n      <td>1073.00</td>\n      <td>37.755264</td>\n      <td>128.896541</td>\n    </tr>\n    <tr>\n      <th>2</th>\n      <td>2</td>\n      <td>(주)동해에너지주유소</td>\n      <td>강원 강릉시 경강로 2101(임당동)</td>\n      <td>2020년 06월 3주</td>\n      <td>SK에너지</td>\n      <td>SK에너지</td>\n      <td>셀프</td>\n      <td>1290.14</td>\n      <td>1090.14</td>\n      <td>37.755264</td>\n      <td>128.896541</td>\n    </tr>\n  </tbody>\n</table>\n</div>"
     },
     "metadata": {},
     "execution_count": 2
    }
   ],
   "source": [
    "df = pd.read_csv('hdo_data_200801.csv')\n",
    "print(df.shape)\n",
    "df.head(3)"
   ]
  },
  {
   "cell_type": "code",
   "execution_count": 3,
   "metadata": {
    "tags": []
   },
   "outputs": [
    {
     "output_type": "stream",
     "name": "stdout",
     "text": "total data samples: (50651, 10)\ndrop duplicated: (10112, 10)\n"
    },
    {
     "output_type": "execute_result",
     "data": {
      "text/plain": "             name                address          date  brand do_brand self  \\\n0     (주)동해에너지주유소   강원 강릉시 경강로 2101(임당동)  2020년 06월 1주  SK에너지    SK에너지   셀프   \n5   (주)명진에너지 사천지점  강원도 강릉시 사천면 동해대로 3576  2020년 06월 1주  SK에너지    SK에너지   셀프   \n10   (주)삼보물류삼보주유소       강원 강릉시 동해대로 3970  2020년 06월 1주  S-OIL    S-OIL   일반   \n\n          G        D        lat         lon  \n0   1238.00  1038.00  37.755264  128.896541  \n5   1275.57  1075.57  37.805112  128.861278  \n10  1262.71  1069.86  37.837395  128.844474  ",
      "text/html": "<div>\n<style scoped>\n    .dataframe tbody tr th:only-of-type {\n        vertical-align: middle;\n    }\n\n    .dataframe tbody tr th {\n        vertical-align: top;\n    }\n\n    .dataframe thead th {\n        text-align: right;\n    }\n</style>\n<table border=\"1\" class=\"dataframe\">\n  <thead>\n    <tr style=\"text-align: right;\">\n      <th></th>\n      <th>name</th>\n      <th>address</th>\n      <th>date</th>\n      <th>brand</th>\n      <th>do_brand</th>\n      <th>self</th>\n      <th>G</th>\n      <th>D</th>\n      <th>lat</th>\n      <th>lon</th>\n    </tr>\n  </thead>\n  <tbody>\n    <tr>\n      <th>0</th>\n      <td>(주)동해에너지주유소</td>\n      <td>강원 강릉시 경강로 2101(임당동)</td>\n      <td>2020년 06월 1주</td>\n      <td>SK에너지</td>\n      <td>SK에너지</td>\n      <td>셀프</td>\n      <td>1238.00</td>\n      <td>1038.00</td>\n      <td>37.755264</td>\n      <td>128.896541</td>\n    </tr>\n    <tr>\n      <th>5</th>\n      <td>(주)명진에너지 사천지점</td>\n      <td>강원도 강릉시 사천면 동해대로 3576</td>\n      <td>2020년 06월 1주</td>\n      <td>SK에너지</td>\n      <td>SK에너지</td>\n      <td>셀프</td>\n      <td>1275.57</td>\n      <td>1075.57</td>\n      <td>37.805112</td>\n      <td>128.861278</td>\n    </tr>\n    <tr>\n      <th>10</th>\n      <td>(주)삼보물류삼보주유소</td>\n      <td>강원 강릉시 동해대로 3970</td>\n      <td>2020년 06월 1주</td>\n      <td>S-OIL</td>\n      <td>S-OIL</td>\n      <td>일반</td>\n      <td>1262.71</td>\n      <td>1069.86</td>\n      <td>37.837395</td>\n      <td>128.844474</td>\n    </tr>\n  </tbody>\n</table>\n</div>"
     },
     "metadata": {},
     "execution_count": 3
    }
   ],
   "source": [
    "# csv에서 불러왔을 때 생기는 index 제거, 한번만 실행해야 함\n",
    "df = df.drop('Unnamed: 0', axis=1)\n",
    "print('total data samples: {}'.format(df.shape))\n",
    "df_rm = df.drop_duplicates(['address'])\n",
    "print('drop duplicated: {}'.format(df_rm.shape))\n",
    "df_rm.head(3)"
   ]
  },
  {
   "cell_type": "markdown",
   "metadata": {},
   "source": [
    "> 50651개의 샘플 중 주소 기준으로 고유한 주유소는 10112개"
   ]
  },
  {
   "cell_type": "markdown",
   "metadata": {},
   "source": [
    "#### test1"
   ]
  },
  {
   "cell_type": "code",
   "execution_count": 5,
   "metadata": {},
   "outputs": [],
   "source": [
    "name1 = '(주)동해에너지주유소'\n",
    "name2 = '해운주유소'\n",
    "name3 = '사우디주유소'\n",
    "name4 = '두바이주유소'"
   ]
  },
  {
   "cell_type": "code",
   "execution_count": 4,
   "metadata": {},
   "outputs": [],
   "source": [
    "# class에 기본이 되는 DataFrame 입력\n",
    "t = check_price(df)"
   ]
  },
  {
   "cell_type": "code",
   "execution_count": 6,
   "metadata": {},
   "outputs": [
    {
     "output_type": "execute_result",
     "data": {
      "text/plain": "[array(['해운주유소', '충북 충주시 갱고개로 44 (교현동)', '2020년 06월 1주', 'SK에너지', 'SK에너지',\n        '셀프', 1272.29, 1072.29, 36.974856700000004, 127.9404689],\n       dtype=object)]"
     },
     "metadata": {},
     "execution_count": 6
    }
   ],
   "source": [
    "# '황제주유소'에 관한 정보들\n",
    "t.check_duplicate(name2)"
   ]
  },
  {
   "cell_type": "code",
   "execution_count": 9,
   "metadata": {},
   "outputs": [
    {
     "output_type": "execute_result",
     "data": {
      "text/plain": "28"
     },
     "metadata": {},
     "execution_count": 9
    }
   ],
   "source": [
    "# 위의 세 번째(index=2) 충북 충주의 황제주유소 기준으로 반경 3km의 주유소\n",
    "len(t.get_near_by_idx(0, 5))"
   ]
  },
  {
   "cell_type": "code",
   "execution_count": 10,
   "metadata": {
    "tags": []
   },
   "outputs": [
    {
     "output_type": "stream",
     "name": "stdout",
     "text": "지정한 날짜는: 2020년 06월 3주\n해당 날짜의 근처 경쟁사들의 정보:\n[array(['(주)코끼리주유소', '충북 충주시 중원대로 3691 (달천동)', '2020년 06월 3주', 'S-OIL',\n       'S-OIL', '일반', 1300.71, 1100.71, 36.961245399999996,\n       127.89686470000001], dtype=object), array(['SK행복주유소', '충북 충주시 중원대로 3122', '2020년 06월 3주', 'SK에너지', 'SK에너지',\n       '일반', 1363.29, 1163.29, 36.9502033, 127.91530859999999],\n      dtype=object), array(['구도일주유소 사과나무', '충북 충주시 번영대로 23 (금릉동)', '2020년 06월 3주', 'S-OIL',\n       'S-OIL', '일반', 1332.71, 1132.71, 36.987688399999996, 127.9199632],\n      dtype=object), array(['국제주유소', '충북 충주시 탄금대로 350 (칠금동)', '2020년 06월 3주', 'S-OIL', 'S-OIL',\n       '셀프', 1284.57, 1096.0, 36.986500799999995, 127.89448840000001],\n      dtype=object), array(['남산클린주유소', '충북 충주시 금봉대로 352 (교현동)', '2020년 06월 3주', 'S-OIL',\n       'S-OIL', '셀프', 1303.29, 1103.29, 36.966233700000004, 127.9473848],\n      dtype=object), array(['대동주유소', '충북 충주시 충원대로 180', '2020년 06월 3주', 'GS칼텍스', 'GS칼텍스', '일반',\n       1305.67, 1105.67, 36.9448636, 127.900636], dtype=object), array(['대성산업(주)충주주유소', '충북 충주시 충원대로 725 (금릉동)', '2020년 06월 3주', 'GS칼텍스',\n       'GS칼텍스', '일반', 1335.0, 1139.0, 36.9909294, 127.91697169999999],\n      dtype=object), array(['대일주유소', '충북 충주시 중원대로 3033 (단월동)', '2020년 06월 3주', 'GS칼텍스',\n       'GS칼텍스', '셀프', 1310.43, 1110.43, 36.94323920000001, 127.9176432],\n      dtype=object), array(['대흥주유소', '충북 충주시 중원대로 3471', '2020년 06월 3주', 'S-OIL', 'S-OIL',\n       '일반', 1311.86, 1111.86, 36.970478, 127.9181418], dtype=object), array(['동양주유소', '충북 충주시  중원대로 3417 (문화동)', '2020년 06월 3주', 'GS칼텍스',\n       'GS칼텍스', '일반', 1379.0, 1199.0, 36.9722925, 127.9229646],\n      dtype=object), array(['롯데마트충주점주유소', '충청북도 충주시  봉계1길 49 (칠금동)', '2020년 06월 3주', 'S-OIL',\n       'S-OIL', '셀프', 1267.0, 1072.71, 36.9816, 127.91436780000001],\n      dtype=object), array(['문화주유소', '충북 충주시 사직로 59 (문화동)', '2020년 06월 3주', 'GS칼텍스', 'GS칼텍스',\n       '셀프', 1296.14, 1097.57, 36.9672506, 127.91947659999998],\n      dtype=object), array(['스카이주유소', '충북 충주시 국원대로 272 (금릉동)', '2020년 06월 3주', 'SK에너지',\n       'SK에너지', '셀프', 1289.0, 1091.86, 36.995937899999994, 127.9281668],\n      dtype=object), array(['연수주유소', '충북 충주시 금봉대로 524 (연수동)', '2020년 06월 3주', 'SK에너지', 'SK에너지',\n       '셀프', 1316.14, 1111.86, 36.9815217, 127.94618590000002],\n      dtype=object), array(['일광주유소', '충북 충주시 안림로 54 (안림동)', '2020년 06월 3주', 'SK에너지', 'SK에너지',\n       '일반', 1304.71, 1104.71, 36.969851500000004, 127.95288640000001],\n      dtype=object), array(['착한주유소', '충북 충주시 팽고리산길 90 (금릉동)', '2020년 06월 3주', 'SK에너지', 'SK에너지',\n       '일반', 1293.29, 1101.86, 36.9930407, 127.9239381], dtype=object), array(['충주댐주유소', '충북 충주시 충원대로 976', '2020년 06월 3주', 'GS칼텍스', 'GS칼텍스',\n       '일반', 1350.0, 1109.0, 37.012710299999995, 127.9165869],\n      dtype=object), array(['충주주유소', '충북 충주시 중원대로 3506 (봉방동)', '2020년 06월 3주', 'SK에너지',\n       'SK에너지', '셀프', 1280.71, 1083.57, 36.9698516, 127.9145452],\n      dtype=object), array(['터미널주유소', '충청북도 충주시  탄금대로 122 (봉방동)', '2020년 06월 3주', 'S-OIL',\n       'S-OIL', '일반', 1357.0, 1237.0, 36.979292, 127.9168102],\n      dtype=object), array(['현대주유소', '충북 충주시 동수9길 29 (연수동)', '2020년 06월 3주', 'GS칼텍스', 'GS칼텍스',\n       '일반', 1380.14, 1174.29, 36.9859727, 127.9343778], dtype=object), array(['화령개발(주)공단주유소', '충청북도 충주시  국원대로 370 (목행동)', '2020년 06월 3주',\n       'SK에너지', 'SK에너지', '일반', 1329.0, 1129.0, 37.004073299999995,\n       127.9313426], dtype=object), array(['희망주유소', '충북 충주시 금봉대로 398', '2020년 06월 3주', 'GS칼텍스', 'GS칼텍스', '일반',\n       1312.14, 1112.14, 36.970299600000004, 127.9470497], dtype=object)]\n"
    },
    {
     "output_type": "execute_result",
     "data": {
      "text/plain": "(1318.2636363636361, 1122.1604545454545)"
     },
     "metadata": {},
     "execution_count": 10
    }
   ],
   "source": [
    "# 해당 날짜의 근처 경쟁사 가격 정보 추출\n",
    "t.get_average(2020, 6, 3)"
   ]
  },
  {
   "cell_type": "markdown",
   "metadata": {},
   "source": [
    "#### test2"
   ]
  },
  {
   "cell_type": "code",
   "execution_count": 9,
   "metadata": {},
   "outputs": [
    {
     "data": {
      "text/plain": [
       "[array(['사우디주유소', '경기 용인시 처인구 백암면 죽양대로 685', '2020년 06월 1주', 'SK에너지',\n",
       "        'SK에너지', '일반', 1299.0, 1166.86, 37.1327982, 127.4050438],\n",
       "       dtype=object),\n",
       " array(['사우디주유소', '경남 진주시 천수로 122 (주약동)', '2020년 06월 1주', 'SK에너지', 'SK에너지',\n",
       "        '셀프', 1247.57, 1047.57, 35.1761837, 128.08758840000002],\n",
       "       dtype=object)]"
      ]
     },
     "execution_count": 9,
     "metadata": {},
     "output_type": "execute_result"
    }
   ],
   "source": [
    "t.check_duplicate(name3)"
   ]
  },
  {
   "cell_type": "code",
   "execution_count": 10,
   "metadata": {},
   "outputs": [
    {
     "data": {
      "text/plain": [
       "[array(['비룡주유소', '경기 안성시 일죽면 죽양대로 530', '2020년 06월 1주', 'S-OIL', 'S-OIL',\n",
       "        '일반', 1284.0, 1085.43, 37.123882200000004, 127.41831909999999],\n",
       "       dtype=object),\n",
       " array(['삼보주유소', '경기 안성시 일죽면 죽양대로 505', '2020년 06월 1주', 'GS칼텍스', 'GS칼텍스',\n",
       "        '일반', 1244.14, 1045.71, 37.122006400000004, 127.4201666],\n",
       "       dtype=object),\n",
       " array(['은석주유소', '경기 안성시 일죽면 사실로 335', '2020년 06월 1주', 'GS칼텍스', 'GS칼텍스',\n",
       "        '일반', 1341.86, 1141.86, 37.14131920000001, 127.4365218],\n",
       "       dtype=object),\n",
       " array(['믿음가득주유소', '경기 용인시 처인구 백암면 죽양대로 820', '2020년 06월 1주', '현대오일뱅크',\n",
       "        '현대오일뱅크', '일반', 1296.57, 1093.71, 37.1409844, 127.3937652],\n",
       "       dtype=object),\n",
       " array(['백봉주유소', '경기 용인시 처인구 백암면 백암로 23', '2020년 06월 1주', '현대오일뱅크',\n",
       "        '현대오일뱅크', '일반', 1286.43, 1089.43, 37.151439, 127.3858134],\n",
       "       dtype=object)]"
      ]
     },
     "execution_count": 10,
     "metadata": {},
     "output_type": "execute_result"
    }
   ],
   "source": [
    "t.get_near_by_idx(0, 3)"
   ]
  },
  {
   "cell_type": "code",
   "execution_count": 11,
   "metadata": {},
   "outputs": [
    {
     "name": "stdout",
     "output_type": "stream",
     "text": [
      "지정한 날짜는: 2020년 06월 4주\n",
      "해당 날짜의 근처 경쟁사들의 정보:\n",
      "[array(['비룡주유소', '경기 안성시 일죽면 죽양대로 530', '2020년 06월 4주', 'S-OIL', 'S-OIL',\n",
      "       '일반', 1340.71, 1143.57, 37.123882200000004, 127.41831909999999],\n",
      "      dtype=object), array(['삼보주유소', '경기 안성시 일죽면 죽양대로 505', '2020년 06월 4주', 'GS칼텍스', 'GS칼텍스',\n",
      "       '일반', 1330.43, 1129.57, 37.122006400000004, 127.4201666],\n",
      "      dtype=object), array(['은석주유소', '경기 안성시 일죽면 사실로 335', '2020년 06월 4주', 'GS칼텍스', 'GS칼텍스',\n",
      "       '일반', 1389.0, 1189.0, 37.14131920000001, 127.4365218], dtype=object)]\n"
     ]
    },
    {
     "data": {
      "text/plain": [
       "(1353.38, 1154.0466666666666)"
      ]
     },
     "execution_count": 11,
     "metadata": {},
     "output_type": "execute_result"
    }
   ],
   "source": [
    "t.get_average(2020, 6, 4)"
   ]
  },
  {
   "cell_type": "code",
   "execution_count": null,
   "metadata": {},
   "outputs": [],
   "source": []
  }
 ],
 "metadata": {
  "kernelspec": {
   "display_name": "Python 3",
   "language": "python",
   "name": "python3"
  },
  "language_info": {
   "codemirror_mode": {
    "name": "ipython",
    "version": 3
   },
   "file_extension": ".py",
   "mimetype": "text/x-python",
   "name": "python",
   "nbconvert_exporter": "python",
   "pygments_lexer": "ipython3",
   "version": "3.8.3"
  }
 },
 "nbformat": 4,
 "nbformat_minor": 4
}